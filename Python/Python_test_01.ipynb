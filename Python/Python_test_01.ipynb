{
 "cells": [
  {
   "cell_type": "markdown",
   "id": "9eeb439a",
   "metadata": {},
   "source": [
    "## Python-Test-01"
   ]
  },
  {
   "cell_type": "markdown",
   "id": "6a8837a8",
   "metadata": {},
   "source": [
    "### Section A – Multiple Choice Questions (10 × 1 = 10 Marks)"
   ]
  },
  {
   "cell_type": "code",
   "execution_count": null,
   "id": "09e42f6a",
   "metadata": {},
   "outputs": [],
   "source": [
    "\"\"\"1. Which of the following is a valid Python identifier?\n",
    "\n",
    "a) 1variable\n",
    "\n",
    "b) _var123\n",
    "\n",
    "c) class\n",
    "\n",
    "d) @name\n",
    "\"\"\"\n",
    "#Answer:b) _var123"
   ]
  },
  {
   "cell_type": "code",
   "execution_count": null,
   "id": "0236b648",
   "metadata": {},
   "outputs": [],
   "source": [
    "\"\"\"2. What will be the output?\n",
    "\n",
    "text\n",
    "x = \"10\"\n",
    "y = 5\n",
    "print(x * y)\n",
    "a) 50\n",
    "\n",
    "b) \"1010101010\"\n",
    "\n",
    "c) Error\n",
    "\n",
    "d) None\n",
    "\"\"\"\n",
    "# b) \"1010101010\""
   ]
  },
  {
   "cell_type": "code",
   "execution_count": null,
   "id": "ee47f96b",
   "metadata": {},
   "outputs": [],
   "source": [
    "\"\"\"3. What is the output?\n",
    "\n",
    "a = True + True + False\n",
    "print(a)\n",
    "a) 0\n",
    "\n",
    "b) 1\n",
    "\n",
    "c) 2\n",
    "\n",
    "d) Error\n",
    "\"\"\"\n",
    "#Answer: c) 2"
   ]
  },
  {
   "cell_type": "code",
   "execution_count": null,
   "id": "463e2a8c",
   "metadata": {},
   "outputs": [],
   "source": [
    "\"\"\"4. Which operator has the highest precedence in Python?\n",
    "\n",
    "a) and\n",
    "\n",
    "b) not\n",
    "\n",
    "c) **\n",
    "\n",
    "d) %\n",
    "\"\"\"\n",
    "#Answer:c) **"
   ]
  },
  {
   "cell_type": "code",
   "execution_count": null,
   "id": "63bfdb6b",
   "metadata": {},
   "outputs": [],
   "source": [
    "\"\"\"5. What is the datatype of x?\n",
    "\n",
    "text\n",
    "x = 3 + 4.0\n",
    "a) int\n",
    "\n",
    "b) float\n",
    "\n",
    "c) str\n",
    "\n",
    "d) complex\n",
    "\"\"\"\n",
    "#Answer: b)float"
   ]
  },
  {
   "cell_type": "code",
   "execution_count": null,
   "id": "94f95a38",
   "metadata": {},
   "outputs": [],
   "source": [
    "\"\"\"6. What is the output?\n",
    "\n",
    "text\n",
    "x = 0\n",
    "if x and 10:\n",
    "    print(\"Yes\")\n",
    "else:\n",
    "    print(\"No\")\n",
    "a) Yes\n",
    "\n",
    "b) No\n",
    "\n",
    "c) Error\n",
    "\n",
    "d) None\n",
    "\"\"\"\n",
    "#Answer: b) No"
   ]
  },
  {
   "cell_type": "code",
   "execution_count": null,
   "id": "2c2d3fdb",
   "metadata": {},
   "outputs": [],
   "source": [
    "\"\"\"7.Which statement is correct about explicit type conversion in Python?\n",
    "\n",
    "a) Python automatically converts int to float.\n",
    "\n",
    "b) We use int(), float(), str() for explicit conversions.\n",
    "\n",
    "c) It is known as implicit conversion.\n",
    "\n",
    "d) Explicit type conversion is not possible in Python.\n",
    "\"\"\"\n",
    "\n",
    "#Answer: b) We use int(), float(), str() for explicit conversions."
   ]
  },
  {
   "cell_type": "code",
   "execution_count": null,
   "id": "7b5f9edb",
   "metadata": {},
   "outputs": [],
   "source": [
    "\"\"\"8. Output of:\n",
    "\n",
    "print(2 and 0 or 5)\n",
    "\n",
    "a) 0\n",
    "b) 2\n",
    "c) 5\n",
    "d) None\n",
    "\"\"\"\n",
    "#Answer: c) 5"
   ]
  },
  {
   "cell_type": "code",
   "execution_count": null,
   "id": "18e1dd15",
   "metadata": {},
   "outputs": [],
   "source": [
    "\"\"\"9. Which of the following evaluates to False?\n",
    "\n",
    "a) bool(\"\") → False\n",
    "\n",
    "b) bool(1) → True\n",
    "\n",
    "c) bool(0) → False\n",
    "\n",
    "d) All of the above \"\"\"\n",
    "\n",
    "#Answer: d) All of the above"
   ]
  },
  {
   "cell_type": "code",
   "execution_count": null,
   "id": "0f8d64b7",
   "metadata": {},
   "outputs": [],
   "source": [
    "\"\"\"10. What will be printed?\n",
    "\n",
    "python\n",
    "x = 10\n",
    "y = 20\n",
    "print(\"A\") if x > y else print(\"B\") if x == y else print(\"C\")\n",
    "\n",
    "a) A\n",
    "b) B\n",
    "c) C\n",
    "d) Error\n",
    "\"\"\"\n",
    "#Answer: c) C"
   ]
  },
  {
   "cell_type": "markdown",
   "id": "6a0475bf",
   "metadata": {},
   "source": [
    "### Section B – 2 Marks Questions"
   ]
  },
  {
   "cell_type": "code",
   "execution_count": null,
   "id": "c1f2b7f9",
   "metadata": {},
   "outputs": [],
   "source": [
    "\"\"\"1. Differentiate between implicit and explicit type conversion with examples.\n",
    "\n",
    "Implicit type conversion (type casting) is done automatically by Python.\n",
    "\n",
    "Example:\"\"\"\n",
    "a = 5\n",
    "b = 2.5\n",
    "c = a + b   # int is converted to float\n",
    "print(c)    # 7.5\n",
    "\n",
    "\"\"\"\n",
    "Explicit type conversion is done manually using functions like int(), float(), str().\n",
    "\n",
    "Example:\"\"\"\n",
    "\n",
    "x = \"100\"\n",
    "y = int(x)  # string to int\n",
    "print(y + 10)  # 110\n"
   ]
  },
  {
   "cell_type": "code",
   "execution_count": null,
   "id": "afb68f0c",
   "metadata": {},
   "outputs": [],
   "source": [
    "\"\"\"2. Write a Python snippet to check if a number is divisible by both 2 and 3 using a single conditional expression.\"\"\"\n",
    "\n",
    "num = 12\n",
    "print(\"Divisible\" if num % 2 == 0 and num % 3 == 0 else \"Not Divisible\")"
   ]
  },
  {
   "cell_type": "code",
   "execution_count": 1,
   "id": "4dee0502",
   "metadata": {},
   "outputs": [
    {
     "name": "stdout",
     "output_type": "stream",
     "text": [
      "15.0\n"
     ]
    }
   ],
   "source": [
    "#3. What will be the output?\n",
    "\n",
    "x = \"5\"\n",
    "y = 2\n",
    "print(int(x) * y + float(x))\n"
   ]
  },
  {
   "cell_type": "code",
   "execution_count": null,
   "id": "721dfee8",
   "metadata": {},
   "outputs": [],
   "source": [
    "\"\"\"4. Explain why variable names like for, if, class are invalid identifiers in Python.\n",
    "    \n",
    "Reserved keywords in Python such as for, if, while, class, etc., have special meanings in the language\n",
    "and cannot be used as variable names. Using them would cause syntax errors.\n",
    "\"\"\""
   ]
  },
  {
   "cell_type": "code",
   "execution_count": 2,
   "id": "ae853d90",
   "metadata": {},
   "outputs": [
    {
     "name": "stdout",
     "output_type": "stream",
     "text": [
      "10\n"
     ]
    }
   ],
   "source": [
    "\"\"\"5. Write a conditional expression in Python to find the minimum \n",
    "of two numbers without using min() function.\n",
    "\"\"\"\n",
    "a, b = 10, 20\n",
    "minimum = a if a < b else b\n",
    "print(minimum)"
   ]
  },
  {
   "cell_type": "markdown",
   "id": "a3deb1b6",
   "metadata": {},
   "source": [
    "### Section C – Coding Questions"
   ]
  },
  {
   "cell_type": "code",
   "execution_count": 4,
   "id": "2c5895db",
   "metadata": {},
   "outputs": [
    {
     "name": "stdout",
     "output_type": "stream",
     "text": [
      "Concatenated string: 56\n"
     ]
    }
   ],
   "source": [
    "\"\"\"1. Write a Python program that takes two inputs and joins them into a single string.\"\"\"\n",
    "\n",
    "a = input(\"Enter first value: \")\n",
    "b = input(\"Enter second value: \")\n",
    "result = str(a) + str(b)\n",
    "print(\"Concatenated string:\", result)"
   ]
  },
  {
   "cell_type": "code",
   "execution_count": null,
   "id": "0f9c6841",
   "metadata": {},
   "outputs": [],
   "source": [
    "\"\"\"2. Write a Python program that accepts a number and checks:\n",
    "\n",
    "If divisible by 2 → print \"Even\"\n",
    "\n",
    "If divisible by 3 → print \"Divisible by 3\"\n",
    "\n",
    "If divisible by both 2 and 3 → print \"Divisible by 6\"\n",
    "\n",
    "Otherwise → print \"Neither\"\n",
    "\"\"\"\n",
    "num = int(input(\"Enter a number: \"))\n",
    "\n",
    "if num % 6 == 0:\n",
    "    print(\"Divisible by 6\")\n",
    "elif num % 2 == 0:\n",
    "    print(\"Even\")\n",
    "elif num % 3 == 0:\n",
    "    print(\"Divisible by 3\")\n",
    "else:\n",
    "    print(\"Neither\")\n"
   ]
  },
  {
   "cell_type": "code",
   "execution_count": 5,
   "id": "419ce4e9",
   "metadata": {},
   "outputs": [
    {
     "name": "stdout",
     "output_type": "stream",
     "text": [
      "Special Character\n"
     ]
    }
   ],
   "source": [
    "\"\"\" 3. Write a Python program that reads a character and checks: uppercase, lowercase, digit, or special character.\"\"\"\n",
    "\n",
    "ch = input(\"Enter a character: \")\n",
    "\n",
    "if ch.isupper():\n",
    "    print(\"Uppercase Letter\")\n",
    "elif ch.islower():\n",
    "    print(\"Lowercase Letter\")\n",
    "elif ch.isdigit():\n",
    "    print(\"Digit\")\n",
    "else:\n",
    "    print(\"Special Character\")"
   ]
  },
  {
   "cell_type": "code",
   "execution_count": 6,
   "id": "873fcb6e",
   "metadata": {},
   "outputs": [
    {
     "name": "stdout",
     "output_type": "stream",
     "text": [
      "Second largest: 15\n"
     ]
    }
   ],
   "source": [
    "\"\"\"4 Accept three numbers and print the second largest without using sorting functions.\"\"\"\n",
    "\n",
    "a, b, c = 10, 25, 15\n",
    "\n",
    "if a > b and a < c or a > c and a < b:\n",
    "    second = a\n",
    "elif b > a and b < c or b > c and b < a:\n",
    "    second = b\n",
    "else:\n",
    "    second = c\n",
    "\n",
    "print(\"Second largest:\", second)"
   ]
  },
  {
   "cell_type": "code",
   "execution_count": 7,
   "id": "a59dcdbf",
   "metadata": {},
   "outputs": [
    {
     "name": "stdout",
     "output_type": "stream",
     "text": [
      "Implicit: 7.5\n",
      "Explicit: 7\n"
     ]
    }
   ],
   "source": [
    "\"\"\"5. Program to demonstrate implicit and explicit conversion.\"\"\"\n",
    "\n",
    "# Implicit conversion\n",
    "a = 5\n",
    "b = 2.5\n",
    "c = a + b   # int to float\n",
    "print(\"Implicit:\", c)\n",
    "\n",
    "# Explicit conversion\n",
    "x = 7.9\n",
    "y = int(x)  # float to int\n",
    "print(\"Explicit:\", y)"
   ]
  },
  {
   "cell_type": "code",
   "execution_count": 8,
   "id": "0af17738",
   "metadata": {},
   "outputs": [
    {
     "name": "stdout",
     "output_type": "stream",
     "text": [
      "Not a leap year\n"
     ]
    }
   ],
   "source": [
    "\"\"\"6. Program to check if a year is a century leap year.\n",
    "\n",
    "A leap year is divisible by 400 (century leap year).\n",
    "\n",
    "Years divisible by 100 but not 400 are not leap.\n",
    "\n",
    "Otherwise divisible by 4 is leap year.\"\"\"\n",
    "\n",
    "year = int(input(\"Enter year: \"))\n",
    "\n",
    "if year % 400 == 0:\n",
    "    print(\"Leap year\")\n",
    "elif year % 100 == 0:\n",
    "    print(\"Not a leap year\")\n",
    "elif year % 4 == 0:\n",
    "    print(\"Leap year\")\n",
    "else:\n",
    "    print(\"Not a leap year\")"
   ]
  }
 ],
 "metadata": {
  "kernelspec": {
   "display_name": "Python (myenv)",
   "language": "python",
   "name": "myenv"
  },
  "language_info": {
   "codemirror_mode": {
    "name": "ipython",
    "version": 3
   },
   "file_extension": ".py",
   "mimetype": "text/x-python",
   "name": "python",
   "nbconvert_exporter": "python",
   "pygments_lexer": "ipython3",
   "version": "3.13.7"
  }
 },
 "nbformat": 4,
 "nbformat_minor": 5
}
