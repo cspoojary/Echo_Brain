{
 "cells": [
  {
   "cell_type": "markdown",
   "id": "5ee07b1f",
   "metadata": {},
   "source": [
    "# Python_Test_02"
   ]
  },
  {
   "cell_type": "markdown",
   "id": "95a6dad1",
   "metadata": {},
   "source": [
    "### Section A – Snippet / MCQs"
   ]
  },
  {
   "cell_type": "code",
   "execution_count": null,
   "id": "945a78c5",
   "metadata": {},
   "outputs": [],
   "source": [
    "\"\"\"1. What will be the output?\"\"\"\n",
    "x = 10\n",
    "if x % 2 == 0 and True:\n",
    "    print(\"Even\")\n",
    "else:\n",
    "    print(\"Odd\")\n",
    "\"\"\"\n",
    "a) Odd\n",
    "b) Even\n",
    "c) Error\n",
    "d) None\"\"\"\n",
    "#Answer: b) Even"
   ]
  },
  {
   "cell_type": "code",
   "execution_count": null,
   "id": "9f5adb71",
   "metadata": {},
   "outputs": [],
   "source": [
    "\"\"\"2. What will be the output?\"\"\"\n",
    "for i in range(3):\n",
    "    if i == 1:\n",
    "        continue\n",
    "    print(i, end=\" \")\n",
    "\"\"\"\n",
    "a) 0 1 2\n",
    "b) 0 2\n",
    "c) 1 2\n",
    "d) 0\n",
    "\"\"\"\n",
    "#Answer: b) 0 2"
   ]
  },
  {
   "cell_type": "code",
   "execution_count": null,
   "id": "ec2c8742",
   "metadata": {},
   "outputs": [],
   "source": [
    "\"\"\"3. Predict output:\"\"\"\n",
    "n = 5\n",
    "while n > 0:\n",
    "    n -= 2\n",
    "print(n)\n",
    "\"\"\"\n",
    "a) 1\n",
    "b) -1\n",
    "c) 0\n",
    "d) Infinite loop\n",
    "\"\"\"\n",
    "#Answer: b) -1"
   ]
  },
  {
   "cell_type": "code",
   "execution_count": null,
   "id": "00c27822",
   "metadata": {},
   "outputs": [],
   "source": [
    "\"\"\"4. Which statement is used to skip the rest of the loop body?\n",
    "a) break\n",
    "b) continue\n",
    "c) pass\n",
    "d) exit\n",
    "\"\"\"\n",
    "#Answer: a) break"
   ]
  },
  {
   "cell_type": "code",
   "execution_count": null,
   "id": "c4bd43e9",
   "metadata": {},
   "outputs": [],
   "source": [
    "\"\"\"5. Output of:\"\"\"\n",
    "for i in range(1,4):\n",
    "    for j in range(1,3):\n",
    "        if i == 2 and j == 1:\n",
    "            break\n",
    "        print(i, j)\n",
    "\"\"\"\n",
    "a) Prints all pairs\n",
    "b) Skips (2,1) and continues\n",
    "c) Stops inner loop only at (2,1)\n",
    "d) Stops entire loop\n",
    "\"\"\"\n",
    "#Answer: c) Stops inner loop only at (2,1)"
   ]
  },
  {
   "cell_type": "code",
   "execution_count": null,
   "id": "badd604f",
   "metadata": {},
   "outputs": [],
   "source": [
    "\"\"\"6. Choose the valid syntax of while loop:\n",
    "a) while (condition) {}\n",
    "b) while condition:\n",
    "c) while (condition):\n",
    "d) both b and c\n",
    "\"\"\"\n",
    "#Answer: d) both b and c"
   ]
  },
  {
   "cell_type": "code",
   "execution_count": null,
   "id": "aff34409",
   "metadata": {},
   "outputs": [],
   "source": [
    "\"\"\"7. Output?\"\"\"\n",
    "for ch in \"PYTHON\":\n",
    "    if ch == \"H\":\n",
    "        pass\n",
    "    print(ch, end=\"\")\n",
    "\"\"\"\n",
    "a) PYTHON\n",
    "b) PYT N\n",
    "c) PYTON\n",
    "d) Error\n",
    "\"\"\"\n",
    "#Answer: a) PYTHON"
   ]
  },
  {
   "cell_type": "code",
   "execution_count": null,
   "id": "883ae822",
   "metadata": {},
   "outputs": [],
   "source": [
    "\"\"\"8. What will be the output?\"\"\"\n",
    "x = 0\n",
    "for i in range(1,4):\n",
    "    x += i\n",
    "print(x)\n",
    "\"\"\"\n",
    "a) 3\n",
    "b) 6\n",
    "c) 4\n",
    "d) 5\n",
    "\"\"\"\n",
    "#Answer: b) 6"
   ]
  },
  {
   "cell_type": "code",
   "execution_count": null,
   "id": "092f8877",
   "metadata": {},
   "outputs": [],
   "source": [
    "\"\"\"9. Which of the following is a transfer statement in Python?\n",
    "a) if\n",
    "b) break\n",
    "c) elif\n",
    "d) else\n",
    "\"\"\"\n",
    "#Answer: b) break"
   ]
  },
  {
   "cell_type": "code",
   "execution_count": 10,
   "id": "98043b09",
   "metadata": {},
   "outputs": [
    {
     "name": "stdout",
     "output_type": "stream",
     "text": [
      "0 1 2 Done\n"
     ]
    },
    {
     "data": {
      "text/plain": [
       "'\\na) 0 1 2\\nb) 0 1 2 Done\\nc) Done\\nd) Error\\n'"
      ]
     },
     "execution_count": 10,
     "metadata": {},
     "output_type": "execute_result"
    }
   ],
   "source": [
    "\"\"\"10. Output?\"\"\"\n",
    "i = 0\n",
    "while i < 3:\n",
    "    print(i, end=\" \")\n",
    "    i += 1\n",
    "else:\n",
    "    print(\"Done\")\n",
    "\"\"\"\n",
    "a) 0 1 2\n",
    "b) 0 1 2 Done\n",
    "c) Done\n",
    "d) Error\n",
    "\"\"\"\n",
    "#Answer: b) 0 1 2 Done"
   ]
  },
  {
   "cell_type": "markdown",
   "id": "4d988e91",
   "metadata": {},
   "source": [
    "### Section B – Short Answers"
   ]
  },
  {
   "cell_type": "code",
   "execution_count": null,
   "id": "04628c2a",
   "metadata": {},
   "outputs": [],
   "source": [
    "\"\"\"1. Define conditional statements in Python with an example.\"\"\"\n",
    "#Conditional statements are used to perform different actions based on different conditions.\n",
    "x = 5\n",
    "if x > 0:\n",
    "    print(\"Positive\")\n",
    "else:\n",
    "    print(\"Non-positive\")\n"
   ]
  },
  {
   "cell_type": "code",
   "execution_count": 6,
   "id": "40f20033",
   "metadata": {},
   "outputs": [
    {
     "name": "stdout",
     "output_type": "stream",
     "text": [
      "0\n",
      "1\n",
      "2\n",
      "3\n",
      "4\n"
     ]
    }
   ],
   "source": [
    "\"\"\"2. What is the use of the pass statement? Give a small example.\"\"\"\n",
    "#The pass statement is a null statement that is used as a placeholder for future code.\n",
    "for i in range(5):\n",
    "    if i == 3:\n",
    "        pass\n",
    "    print(i)"
   ]
  },
  {
   "cell_type": "code",
   "execution_count": null,
   "id": "84210069",
   "metadata": {},
   "outputs": [],
   "source": [
    "\"\"\"3. Write the difference between break and continue.\"\"\"\n",
    "\n",
    "#break: Terminates the loop completely and exits out.\n",
    "\n",
    "#continue: Skips the current iteration and moves to the next one."
   ]
  },
  {
   "cell_type": "code",
   "execution_count": 2,
   "id": "70e784b9",
   "metadata": {},
   "outputs": [
    {
     "name": "stdout",
     "output_type": "stream",
     "text": [
      "0\n",
      "1\n",
      "2\n",
      "3\n",
      "4\n",
      "0\n",
      "1\n",
      "2\n",
      "3\n",
      "4\n"
     ]
    }
   ],
   "source": [
    "\"\"\"4. Write the syntax of for loop and while loop in Python.\"\"\"\n",
    "#For loop:\n",
    "\n",
    "for i in range(5):\n",
    "    print(i)\n",
    "\n",
    "\n",
    "#While loop:\n",
    "\n",
    "i = 0\n",
    "while i < 5:\n",
    "    print(i)\n",
    "    i += 1"
   ]
  },
  {
   "cell_type": "code",
   "execution_count": 5,
   "id": "cb4bf894",
   "metadata": {},
   "outputs": [
    {
     "name": "stdout",
     "output_type": "stream",
     "text": [
      "0\n",
      "1\n",
      "2\n",
      "Loop done\n"
     ]
    }
   ],
   "source": [
    "\"\"\"5. What is the purpose of the else block in loops? Give one example.\"\"\"\n",
    "#The else block after a loop is executed when the loop completes normally (not terminated by break).\n",
    "\n",
    "for i in range(3):\n",
    "    print(i)\n",
    "else:\n",
    "    print(\"Loop done\")"
   ]
  },
  {
   "cell_type": "code",
   "execution_count": 11,
   "id": "57c863d1",
   "metadata": {},
   "outputs": [
    {
     "name": "stdout",
     "output_type": "stream",
     "text": [
      "1\n",
      "2\n"
     ]
    }
   ],
   "source": [
    "\"\"\"6. Write the output of:\"\"\"\n",
    "for i in range(1, 6):\n",
    "    if i == 3:\n",
    "        break\n",
    "    print(i)"
   ]
  },
  {
   "cell_type": "markdown",
   "id": "fdef162f",
   "metadata": {},
   "source": [
    "### Section C – Pattern Programs"
   ]
  },
  {
   "cell_type": "code",
   "execution_count": 14,
   "id": "2a2c00bc",
   "metadata": {},
   "outputs": [
    {
     "name": "stdout",
     "output_type": "stream",
     "text": [
      "\n",
      "* \n",
      "* * \n",
      "* * * \n",
      "* * * * \n"
     ]
    }
   ],
   "source": [
    "\"\"\"17. Write a Python program to print the following pattern:\n",
    "*\n",
    "* *\n",
    "* * *\n",
    "* * * *\n",
    "* * * * *\n",
    "\"\"\"\n",
    "\n",
    "n = 5\n",
    "for i in range(n):\n",
    "    for j in range(i):\n",
    "        print(\"*\",end = \" \")\n",
    "    print()"
   ]
  },
  {
   "cell_type": "code",
   "execution_count": 13,
   "id": "99b855f7",
   "metadata": {},
   "outputs": [
    {
     "name": "stdout",
     "output_type": "stream",
     "text": [
      "* \n",
      "* * \n",
      "* * * \n",
      "* * * * \n",
      "* * * * * \n"
     ]
    }
   ],
   "source": [
    "for i in range(1, 6):\n",
    "    print('* ' * i)\n"
   ]
  },
  {
   "cell_type": "code",
   "execution_count": 20,
   "id": "e67d4a7c",
   "metadata": {},
   "outputs": [
    {
     "name": "stdout",
     "output_type": "stream",
     "text": [
      "\n",
      "1 \n",
      "1 2 \n",
      "1 2 3 \n",
      "1 2 3 4 \n"
     ]
    }
   ],
   "source": [
    "\"\"\"\n",
    "18. Write a program to display the following number pattern:\n",
    "1\n",
    "1 2\n",
    "1 2 3\n",
    "1 2 3 4\n",
    "\"\"\"\n",
    "n = 5\n",
    "for i in range(1,n+1):\n",
    "    for j in range(1,i):\n",
    "        print(j, end = \" \")\n",
    "    print()"
   ]
  },
  {
   "cell_type": "code",
   "execution_count": 25,
   "id": "fb379d5a",
   "metadata": {},
   "outputs": [
    {
     "name": "stdout",
     "output_type": "stream",
     "text": [
      "* * * * * \n",
      "* * * * \n",
      "* * * \n",
      "* * \n",
      "* \n",
      "\n"
     ]
    }
   ],
   "source": [
    "\"\"\"\n",
    "19. Write a program to print the following reverse star pattern:\n",
    "\n",
    "* * * *\n",
    "* * *\n",
    "* *\n",
    "*\n",
    "\"\"\"\n",
    "n = 5\n",
    "for i in range(n,0,-1):\n",
    "    print(\"* \"*i)\n",
    "print()"
   ]
  },
  {
   "cell_type": "code",
   "execution_count": 26,
   "id": "c9cb5e05",
   "metadata": {},
   "outputs": [
    {
     "name": "stdout",
     "output_type": "stream",
     "text": [
      "   * \n",
      "  * * \n",
      " * * * \n",
      "* * * * \n"
     ]
    }
   ],
   "source": [
    "\"\"\"\n",
    "20. Write a Python program to print the pyramid pattern:\n",
    "Pattern:\n",
    "\n",
    "   *\n",
    "  * *\n",
    " * * *\n",
    "* * * *\n",
    "\"\"\"\n",
    "n = 4\n",
    "for i in range(n):\n",
    "    print(\" \" * (n - i - 1) + \"* \" * (i + 1))\n"
   ]
  },
  {
   "cell_type": "code",
   "execution_count": 27,
   "id": "826b9621",
   "metadata": {},
   "outputs": [
    {
     "name": "stdout",
     "output_type": "stream",
     "text": [
      "1 \n",
      "1 2 \n",
      "1 2 3 \n",
      "1 2 3 4 \n"
     ]
    }
   ],
   "source": [
    "\"\"\"\n",
    "21. Write a program to print the following number pyramid:\n",
    "Pattern:\n",
    "\n",
    "1\n",
    "1 2\n",
    "1 2 3\n",
    "1 2 3 4\n",
    "\"\"\"\n",
    "n = 4\n",
    "for i in range(1, n+1):\n",
    "    for j in range(1, i+1):\n",
    "        print(j, end=\" \")\n",
    "    print()\n"
   ]
  },
  {
   "cell_type": "code",
   "execution_count": 28,
   "id": "82e99365",
   "metadata": {},
   "outputs": [
    {
     "name": "stdout",
     "output_type": "stream",
     "text": [
      "1 \n",
      "2 2 \n",
      "3 3 3 \n",
      "4 4 4 4 \n"
     ]
    }
   ],
   "source": [
    "\"\"\"\n",
    "22. Write a program to print the following right-angled triangle pattern with numbers:\n",
    "Pattern:\n",
    "\n",
    "1\n",
    "2 2\n",
    "3 3 3\n",
    "4 4 4 4\n",
    "\"\"\"\n",
    "n = 4\n",
    "for i in range(1, n+1):\n",
    "    for j in range(i):\n",
    "        print(i, end=\" \")\n",
    "    print()\n"
   ]
  },
  {
   "cell_type": "code",
   "execution_count": 29,
   "id": "e81f0fec",
   "metadata": {},
   "outputs": [
    {
     "name": "stdout",
     "output_type": "stream",
     "text": [
      "A \n",
      "A B \n",
      "A B C \n",
      "A B C D \n"
     ]
    }
   ],
   "source": [
    "\"\"\"23. Write a program to display the following pattern:\n",
    "A\n",
    "A B\n",
    "A B C\n",
    "A B C D\n",
    "\"\"\"\n",
    "n = 4\n",
    "for i in range(1, n+1):\n",
    "    for j in range(i):\n",
    "        print(chr(65 + j), end=\" \")\n",
    "    print()\n",
    "\n"
   ]
  },
  {
   "cell_type": "code",
   "execution_count": 30,
   "id": "c9934251",
   "metadata": {},
   "outputs": [
    {
     "name": "stdout",
     "output_type": "stream",
     "text": [
      "   * \n",
      "  * * \n",
      " * * * \n",
      "* * * * \n",
      " * * * \n",
      "  * * \n",
      "   * \n"
     ]
    }
   ],
   "source": [
    "\"\"\"24. Write a program to display the diamond pattern:\n",
    "   *\n",
    "  * *\n",
    " * * *\n",
    "* * * *\n",
    " * * *\n",
    "  * *\n",
    "   *\n",
    "\"\"\"\n",
    "n = 4\n",
    "# upper part\n",
    "for i in range(n):\n",
    "    print(\" \" * (n - i - 1) + \"* \" * (i + 1))\n",
    "# lower part\n",
    "for i in range(n - 2, -1, -1):\n",
    "    print(\" \" * (n - i - 1) + \"* \" * (i + 1))\n"
   ]
  }
 ],
 "metadata": {
  "kernelspec": {
   "display_name": "Python (myenv)",
   "language": "python",
   "name": "myenv"
  },
  "language_info": {
   "codemirror_mode": {
    "name": "ipython",
    "version": 3
   },
   "file_extension": ".py",
   "mimetype": "text/x-python",
   "name": "python",
   "nbconvert_exporter": "python",
   "pygments_lexer": "ipython3",
   "version": "3.13.7"
  }
 },
 "nbformat": 4,
 "nbformat_minor": 5
}
