{
 "cells": [
  {
   "cell_type": "markdown",
   "id": "a7558519",
   "metadata": {},
   "source": [
    "23/09/2025"
   ]
  },
  {
   "cell_type": "code",
   "execution_count": 2,
   "id": "ef1df79f",
   "metadata": {},
   "outputs": [
    {
     "name": "stdout",
     "output_type": "stream",
     "text": [
      "<class 'tuple'>\n",
      "<class 'str'>\n",
      "<class 'tuple'>\n"
     ]
    }
   ],
   "source": [
    "tuple1 = (\"Chaithanya\",\"Chethan\",\"Shreyas\",\"Preethesh\")\n",
    "print(type(tuple1))\n",
    "tup = (\"Chaithanya\")\n",
    "print(type(tup))\n",
    "tup = (\"Chaithanya\",)\n",
    "print(type(tup))"
   ]
  },
  {
   "cell_type": "code",
   "execution_count": null,
   "id": "4aaf4e1f",
   "metadata": {},
   "outputs": [],
   "source": []
  },
  {
   "cell_type": "code",
   "execution_count": 3,
   "id": "d43f0dff",
   "metadata": {},
   "outputs": [
    {
     "name": "stdout",
     "output_type": "stream",
     "text": [
      "('Arun', 26, True)\n"
     ]
    }
   ],
   "source": [
    "#Tuple with different Data types\n",
    "person = (\"Arun\",25,True)\n",
    "person_new = list(person)\n",
    "person_new[1] = 26\n",
    "person_new = tuple(person_new)\n",
    "print(person_new)"
   ]
  },
  {
   "cell_type": "code",
   "execution_count": 63,
   "id": "879c9579",
   "metadata": {},
   "outputs": [
    {
     "name": "stdout",
     "output_type": "stream",
     "text": [
      "['Arun', 25, True, 2, 1, 11, 23, (56, 77), 'good']\n",
      "['Arun', 25, True, 2, 1, 11, 23, (50, 77), 'good']\n"
     ]
    }
   ],
   "source": [
    "person = (\"Arun\", 25,True,2,1,11,23,(56,77),\"good\")\n",
    "person1 = list(person)\n",
    "print(person1)\n",
    "person1[7] = list(person1[7])\n",
    "person1[7][0]= 50\n",
    "person1[7] = tuple(person1[7])\n",
    "print((person1))"
   ]
  },
  {
   "cell_type": "code",
   "execution_count": null,
   "id": "377aa57b",
   "metadata": {},
   "outputs": [
    {
     "name": "stdout",
     "output_type": "stream",
     "text": [
      "['Arun', 25, True, 2, 1, 11, 23, (56, 77), 'good']\n",
      "['Arun', 25, True, 2, 1, 11, 23, (50, 77), 'good']\n"
     ]
    }
   ],
   "source": [
    "person = (\"Arun\", 25,True,2,1,11,23,(56,77),\"good\")\n",
    "person = list(person)\n",
    "print(person)\n",
    "person[7] = list(person[7])\n",
    "print\n",
    "person[7][0]= 50\n",
    "person[7] = tuple(person[7])\n",
    "print((person))"
   ]
  },
  {
   "cell_type": "code",
   "execution_count": 64,
   "id": "405e3fd9",
   "metadata": {},
   "outputs": [
    {
     "name": "stdout",
     "output_type": "stream",
     "text": [
      "[1, 'hello', 3, 4, 5, 6.0]\n",
      "[1, 'Bye', 3, 4, 5, 6.0]\n",
      "[1, 'Bye', 3, 4, 5, 6]\n",
      "[1, 'Bye', 3, 4, 5, 6]\n"
     ]
    }
   ],
   "source": [
    "tup1 = (1,\"hello\",3,4,5,6.0)\n",
    "tup1 = list(tup1)\n",
    "print(tup1)\n",
    "tup1[1] = \"Bye\"\n",
    "print(tup1)\n",
    "tup1[5] = int(6)\n",
    "print(tup1)\n",
    "tup1 = (tup1)\n",
    "print(tup1)"
   ]
  },
  {
   "cell_type": "code",
   "execution_count": 65,
   "metadata": {},
   "outputs": [
    {
     "name": "stdout",
     "output_type": "stream",
     "text": [
      "1\n",
      "Hello\n",
      "4.5\n",
      "(3, (4, 5)) [-1] [-1]\n"
     ]
    }
   ],
   "source": [
    "#Accesing index in tuple\n",
    "tup = (1,\"Hello\",(3,(4,5)),4.5)\n",
    "tup1 = (type(tup))\n",
    "print(tup[0])\n",
    "print(tup[1])\n",
    "print(tup[-1])\n",
    "print(tup[-2],[-1],[-1])"
   ]
  },
  {
   "cell_type": "code",
   "execution_count": 66,
   "id": "f7e6e883",
   "metadata": {},
   "outputs": [
    {
     "name": "stdout",
     "output_type": "stream",
     "text": [
      "(20, 30)\n",
      "(10, 20, 30, 40)\n",
      "(40, 50)\n",
      "(50, 40, 30, 20, 10)\n"
     ]
    }
   ],
   "source": [
    "number = (10,20,30,40,50)\n",
    "print(number[1:3])\n",
    "print(number[:4])\n",
    "print(number[3:])\n",
    "print(number[::-1])"
   ]
  },
  {
   "cell_type": "code",
   "execution_count": 67,
   "id": "efb381bc",
   "metadata": {},
   "outputs": [
    {
     "name": "stdout",
     "output_type": "stream",
     "text": [
      "(1, 2, 3, 4, 5, 6)\n",
      "<class 'tuple'>\n"
     ]
    }
   ],
   "source": [
    "tuple1 = (1,2,3)\n",
    "tuple2 = (4,5,6)\n",
    "new_tuple = tuple1+tuple2\n",
    "print(new_tuple)\n",
    "print(type(new_tuple))"
   ]
  },
  {
   "cell_type": "code",
   "execution_count": 74,
   "id": "cb328290",
   "metadata": {},
   "outputs": [
    {
     "name": "stdout",
     "output_type": "stream",
     "text": [
      "('Hello', 'Hello', 'Hello')\n"
     ]
    }
   ],
   "source": [
    "repeat_tuple = (\"Hello\",)*3\n",
    "print(repeat_tuple)"
   ]
  },
  {
   "cell_type": "code",
   "execution_count": 75,
   "id": "c66aba95",
   "metadata": {},
   "outputs": [
    {
     "name": "stdout",
     "output_type": "stream",
     "text": [
      "True\n",
      "True\n"
     ]
    }
   ],
   "source": [
    "#Membership test\n",
    "fruits = (\"apple\",\"banana\",\"Cherry\")\n",
    "print(\"apple\" in fruits)\n",
    "print(\"grape\" not in fruits)"
   ]
  },
  {
   "cell_type": "markdown",
   "id": "a4f91d3a",
   "metadata": {},
   "source": [
    "SET = Collection data types where it is does not  allow duplicate ,unorder and defined by using {}"
   ]
  },
  {
   "cell_type": "code",
   "execution_count": 76,
   "metadata": {},
   "outputs": [
    {
     "name": "stdout",
     "output_type": "stream",
     "text": [
      "<class 'set'>\n"
     ]
    },
    {
     "ename": "TypeError",
     "evalue": "'set' object is not callable",
     "output_type": "error",
     "traceback": [
      "\u001b[31m---------------------------------------------------------------------------\u001b[39m",
      "\u001b[31mTypeError\u001b[39m                                 Traceback (most recent call last)",
      "\u001b[36mCell\u001b[39m\u001b[36m \u001b[39m\u001b[32mIn[76]\u001b[39m\u001b[32m, line 4\u001b[39m\n\u001b[32m      1\u001b[39m \u001b[38;5;28mset\u001b[39m = {\u001b[33m\"\u001b[39m\u001b[33m\"\u001b[39m}\n\u001b[32m      2\u001b[39m \u001b[38;5;28mprint\u001b[39m(\u001b[38;5;28mtype\u001b[39m(\u001b[38;5;28mset\u001b[39m))\n\u001b[32m----> \u001b[39m\u001b[32m4\u001b[39m a = \u001b[38;5;28;43mset\u001b[39;49m\u001b[43m(\u001b[49m\u001b[43m)\u001b[49m\n\u001b[32m      5\u001b[39m \u001b[38;5;28mprint\u001b[39m(\u001b[38;5;28mtype\u001b[39m(a))\n\u001b[32m      7\u001b[39m set1 = {}\n",
      "\u001b[31mTypeError\u001b[39m: 'set' object is not callable"
     ]
    }
   ],
   "source": [
    "set = {\"\"}\n",
    "print(type(set))\n",
    "\n",
    "a = set()\n",
    "print(type(a))\n",
    "\n",
    "set1 = {}\n",
    "print(type(set1))"
   ]
  },
  {
   "cell_type": "code",
   "execution_count": 77,
   "id": "9b256936",
   "metadata": {},
   "outputs": [
    {
     "name": "stdout",
     "output_type": "stream",
     "text": [
      "{1, 2, 3, 4, 5, 6}\n",
      "{1, 2, 3, 4, 5, 6, 7, 8, 9}\n"
     ]
    }
   ],
   "source": [
    "#Adding Elements\n",
    "my_set ={1,2,3,4,5}\n",
    "my_set.add(6) #a singlr value\n",
    "print(my_set)\n",
    "\n",
    "my_set.update([7,8,9]) #mtl elements\n",
    "print(my_set)"
   ]
  },
  {
   "cell_type": "code",
   "execution_count": 78,
   "id": "a5cada4f",
   "metadata": {},
   "outputs": [
    {
     "name": "stdout",
     "output_type": "stream",
     "text": [
      "{2, 3, 4, 5}\n",
      "1\n"
     ]
    }
   ],
   "source": [
    "my_set ={1,2,3,4,5}\n",
    "popped_element = my_set.pop() #Remove a random element\n",
    "print(my_set)\n",
    "print(popped_element)"
   ]
  },
  {
   "cell_type": "code",
   "execution_count": 79,
   "id": "14944bfa",
   "metadata": {},
   "outputs": [
    {
     "name": "stdout",
     "output_type": "stream",
     "text": [
      "set()\n"
     ]
    }
   ],
   "source": [
    "my_set.clear() #Remove all set\n",
    "print(my_set)"
   ]
  },
  {
   "cell_type": "markdown",
   "id": "bdd858a5",
   "metadata": {},
   "source": [
    "Class Assignment = 23/09/2025"
   ]
  },
  {
   "cell_type": "code",
   "execution_count": 84,
   "id": "88602aef",
   "metadata": {},
   "outputs": [
    {
     "name": "stdout",
     "output_type": "stream",
     "text": [
      "[1, 'hello', 3, 4, 5, 6.0]\n",
      "[1, 'Bye', 3, 4, 5, 6.0]\n",
      "[1, 'Bye', 3, 4, 5, 6]\n",
      "[1, 'Bye', 3, 4, 5, 6]\n"
     ]
    }
   ],
   "source": [
    "tup1 = (1,\"hello\",3,4,5,6.0)\n",
    "tup1 = list(tup1)\n",
    "print(tup1)\n",
    "tup1[1] = \"Bye\"\n",
    "print(tup1)\n",
    "tup1[5] = int(6)\n",
    "print(tup1)\n",
    "tup1 = (tup1)\n",
    "print(tup1)"
   ]
  },
  {
   "cell_type": "code",
   "execution_count": 1,
   "id": "f35d34e4",
   "metadata": {},
   "outputs": [
    {
     "name": "stdout",
     "output_type": "stream",
     "text": [
      "<class 'list'>\n",
      "[1.0, 2.0, 3.0, 4, 5, 6.0]\n",
      "[1.0, 2.0, 3, 4, 5, 6]\n",
      "(1.0, 2.0, 3, 4, 5, 6)\n",
      "<class 'tuple'>\n"
     ]
    }
   ],
   "source": [
    "tuple1 = (1,2,3.0,4,5,6.0)\n",
    "tuple1 = list(tuple1)\n",
    "print(type(tuple1))\n",
    "tuple1[0] = float(1)\n",
    "tuple1[1] = float(2)\n",
    "print(tuple1)\n",
    "tuple1[2] = int(3.0)\n",
    "tuple1[5] = int(6.0)\n",
    "print(tuple1)\n",
    "tuple1 = tuple(tuple1)\n",
    "print(tuple1)\n",
    "print(type(tuple1))"
   ]
  },
  {
   "cell_type": "code",
   "execution_count": 97,
   "id": "2bc04799",
   "metadata": {},
   "outputs": [
    {
     "name": "stdout",
     "output_type": "stream",
     "text": [
      "(1, 2, 3, 4, 5, 6)\n",
      "[1.0, 2.0, 3.0, 4, 5.0, 6.0]\n",
      "(1.0, 2.0, 3.0, 4, 5.0, 6.0)\n"
     ]
    }
   ],
   "source": [
    "tuple2 = (1,2,3,4,5,6)\n",
    "print(tuple2)\n",
    "tuple2 = list(tuple2)\n",
    "tuple2[0] = float(1)\n",
    "tuple2[1] = float(2)\n",
    "tuple2[2] = float(3)\n",
    "tuple2[4] = float(5)\n",
    "tuple2[5] = float(6)\n",
    "print(tuple2)\n",
    "print(tuple(tuple2))"
   ]
  },
  {
   "cell_type": "code",
   "execution_count": 102,
   "id": "37179262",
   "metadata": {},
   "outputs": [
    {
     "name": "stdout",
     "output_type": "stream",
     "text": [
      "(1, 2, 3, 4, 5, 6)\n",
      "[1.0, 2.0, 3, 4.0, 5, 6]\n",
      "(1.0, 2.0, 3, 4.0, 5, 6)\n"
     ]
    }
   ],
   "source": [
    "tuple3 = (1,2,3,4,5,6)\n",
    "print(tuple3)\n",
    "tuple3 = list(tuple3)\n",
    "tuple3[0] = float(1)\n",
    "tuple3[1] = float(2)\n",
    "tuple3[3] = float(4)\n",
    "print(tuple3)\n",
    "tuple3 = tuple(tuple3)\n",
    "print(tuple3)"
   ]
  },
  {
   "cell_type": "code",
   "execution_count": null,
   "id": "09fa6574",
   "metadata": {},
   "outputs": [
    {
     "name": "stdout",
     "output_type": "stream",
     "text": [
      "{1, 4, 5, 6, 7}\n",
      "{1, 4, 5, 6, 7}\n",
      "--------------------------------------------\n",
      "{1, 2, 3, 4, 5, 6, 7}\n",
      "{1, 2, 3, 4, 5, 6, 7}\n",
      "--------------------------------------------\n",
      "{2, 3}\n",
      "{2, 3}\n",
      "---------------------------------------------\n"
     ]
    }
   ],
   "source": [
    "A = {1,3,5,2,6}\n",
    "B = {3,2,4,7}\n",
    "print(A.symmetric_difference(B))  \n",
    "print(A ^ B) \n",
    "print(\"--------------------------------------------\")\n",
    "print(A | B)          \n",
    "print(A.union(B)) \n",
    "print(\"--------------------------------------------\")\n",
    "print(A & B)          \n",
    "print(A.intersection(B))  \n",
    "print(\"---------------------------------------------\")"
   ]
  },
  {
   "cell_type": "markdown",
   "id": "dfdc9e23",
   "metadata": {},
   "source": [
    "24/09/2025 - Dictionary"
   ]
  },
  {
   "cell_type": "code",
   "execution_count": 1,
   "id": "070dc19b",
   "metadata": {},
   "outputs": [
    {
     "name": "stdout",
     "output_type": "stream",
     "text": [
      "<class 'dict'>\n"
     ]
    }
   ],
   "source": [
    "chaithu = {}\n",
    "print(type(chaithu))"
   ]
  },
  {
   "cell_type": "code",
   "execution_count": null,
   "id": "ee30b896",
   "metadata": {},
   "outputs": [
    {
     "name": "stdout",
     "output_type": "stream",
     "text": [
      "<class 'dict'>\n"
     ]
    }
   ],
   "source": [
    "#inbuilt function\n",
    "chaithu1 = dict()\n",
    "print(type(chaithu1))"
   ]
  },
  {
   "cell_type": "code",
   "execution_count": null,
   "id": "0cf65a45",
   "metadata": {},
   "outputs": [],
   "source": [
    "#Syntax\n",
    "#variable = {key1:value,key2:value,key3:value}"
   ]
  },
  {
   "cell_type": "code",
   "execution_count": 7,
   "id": "f3dfbf14",
   "metadata": {},
   "outputs": [
    {
     "name": "stdout",
     "output_type": "stream",
     "text": [
      "{'Name': 'Chaithu', 'Age': 22, 'Education': 'B.Sc'}\n"
     ]
    }
   ],
   "source": [
    "Me = {\"Name\":\"Chaithu\",\"Age\":22,\"Education\":\"B.Sc\"}\n",
    "print(Me)"
   ]
  },
  {
   "cell_type": "code",
   "execution_count": 8,
   "id": "0e34e9de",
   "metadata": {},
   "outputs": [
    {
     "name": "stdout",
     "output_type": "stream",
     "text": [
      "{1: 'Bye', 3: 10}\n",
      "<class 'dict'>\n"
     ]
    }
   ],
   "source": [
    "dict1 = {1:\"hello\",1:\"hi\",1:\"Bye\",3:10}\n",
    "print(dict1)\n",
    "print(type(dict1))"
   ]
  },
  {
   "cell_type": "code",
   "execution_count": 10,
   "id": "134931f3",
   "metadata": {},
   "outputs": [
    {
     "name": "stdout",
     "output_type": "stream",
     "text": [
      "{'Name': 'Shreyash', 'Age': 21}\n"
     ]
    }
   ],
   "source": [
    "dict2 = {\"Name\":\"Ammi\",\"Name\":\"Shreyash\",\"Age\":21}\n",
    "print(dict2)"
   ]
  },
  {
   "cell_type": "code",
   "execution_count": 14,
   "id": "4f64e9f9",
   "metadata": {},
   "outputs": [
    {
     "name": "stdout",
     "output_type": "stream",
     "text": [
      "{'name': 'John', 'Age': 25, 'Course': 'Python', 'Marks': [98, 76, 78]}\n",
      "98\n"
     ]
    }
   ],
   "source": [
    "student = {\"name\":\"John\",\"Age\":25,\"Course\":\"Python\",\"Marks\":[98,76,78]}\n",
    "print(student)\n",
    "print(student[\"Marks\"][0])"
   ]
  },
  {
   "cell_type": "code",
   "execution_count": 16,
   "id": "c9a25eb9",
   "metadata": {},
   "outputs": [
    {
     "name": "stdout",
     "output_type": "stream",
     "text": [
      "{'name': 'Alice', 'Age': 25}\n"
     ]
    }
   ],
   "source": [
    "student1 = {\"name\":\"Alice\",\"Age\":25}\n",
    "copy_d = student1.copy()\n",
    "print(copy_d)\n"
   ]
  },
  {
   "cell_type": "code",
   "execution_count": null,
   "id": "5742309d",
   "metadata": {},
   "outputs": [
    {
     "name": "stdout",
     "output_type": "stream",
     "text": [
      "{'a': 2, 'b': 2, 'c': 2}\n"
     ]
    }
   ],
   "source": [
    "#fromkeys(iterable, value) - Creates a dictionary\n",
    "#with specified keys and a common value.\n",
    "a =[\"a\",\"b\",\"c\"]\n",
    "d = dict.fromkeys(a,2)\n",
    "print(d)"
   ]
  },
  {
   "cell_type": "code",
   "execution_count": 17,
   "id": "9bf62a49",
   "metadata": {},
   "outputs": [
    {
     "name": "stdout",
     "output_type": "stream",
     "text": [
      "Adhya\n",
      "not found\n"
     ]
    }
   ],
   "source": [
    "#get(key, default) - Returns the value for for a key,\n",
    "# or default\n",
    "#if the key is not found\n",
    "\n",
    "d = {\"name\":\"Adhya\",\"Age\":25}\n",
    "print(d.get(\"name\"))\n",
    "print(d.get(\"city\",\"not found\"))"
   ]
  },
  {
   "cell_type": "code",
   "execution_count": null,
   "id": "69f17e8c",
   "metadata": {},
   "outputs": [
    {
     "name": "stdout",
     "output_type": "stream",
     "text": [
      "dict_items([('name', 'Arun'), ('age', 25), ('Age', 26)])\n"
     ]
    }
   ],
   "source": [
    "#Return a veiw of outpur in tuple item()\n",
    "d = {\"name\":\"Arun\",\"age\":25,\"Age\":26}\n",
    "print(d.items())"
   ]
  },
  {
   "cell_type": "code",
   "execution_count": 21,
   "id": "686df0b8",
   "metadata": {},
   "outputs": [
    {
     "name": "stdout",
     "output_type": "stream",
     "text": [
      "dict_keys(['name', 'age', 'Age'])\n",
      "dict_values(['Arun', 25, 26])\n"
     ]
    }
   ],
   "source": [
    "#keys() - Returns a view object containing dictionary.\n",
    "d = {\"name\":\"Arun\",\"age\":25,\"Age\":26}\n",
    "print(d.keys())\n",
    "print(d.values())"
   ]
  },
  {
   "cell_type": "code",
   "execution_count": 24,
   "id": "b091b8d1",
   "metadata": {},
   "outputs": [
    {
     "name": "stdout",
     "output_type": "stream",
     "text": [
      "('Age', 26)\n",
      "{'name': 'Arun', 'age': 25}\n"
     ]
    }
   ],
   "source": [
    "d = {\"name\":\"Arun\",\"age\":25,\"Age\":26}\n",
    "pop1 = d.popitem()\n",
    "print(pop1)\n",
    "print(d)"
   ]
  },
  {
   "cell_type": "code",
   "execution_count": 23,
   "id": "78f838e9",
   "metadata": {},
   "outputs": [
    {
     "name": "stdout",
     "output_type": "stream",
     "text": [
      "{'name': 'Chandu', 'age': 26, 'city': 'New York'}\n"
     ]
    }
   ],
   "source": [
    "d = {\"name\":\"Chandu\",\"age\":21}\n",
    "d.update({\"city\":\"New York\",\"age\":26})\n",
    "print(d)"
   ]
  },
  {
   "cell_type": "code",
   "execution_count": 25,
   "id": "aa7a6556",
   "metadata": {},
   "outputs": [
    {
     "name": "stdout",
     "output_type": "stream",
     "text": [
      "{'a': 1, 'b': 2, 'c': 3, 'd': 4}\n"
     ]
    }
   ],
   "source": [
    "#merging two dictionaries\n",
    "dict1 ={\"a\":1,\"b\":2}\n",
    "dict2 ={\"c\":3,\"d\":4}\n",
    "merged_dict = {**dict1, **dict2}\n",
    "print(merged_dict)"
   ]
  },
  {
   "cell_type": "code",
   "execution_count": 51,
   "id": "fbb5f658",
   "metadata": {},
   "outputs": [
    {
     "name": "stdout",
     "output_type": "stream",
     "text": [
      "[1, 4, 9, 16, 25]\n"
     ]
    }
   ],
   "source": [
    "list1 = [1,2,3,4,5]\n",
    "mul_list=[]\n",
    "for i in list1:\n",
    "    a = i*i\n",
    "    mul_list.append(a)\n",
    "print(mul_list)\n",
    "\n"
   ]
  },
  {
   "cell_type": "markdown",
   "id": "66e77f01",
   "metadata": {},
   "source": [
    "List Comprehension\n"
   ]
  },
  {
   "cell_type": "code",
   "execution_count": null,
   "id": "1f586ac2",
   "metadata": {},
   "outputs": [],
   "source": [
    "#New_list = [expression for item in iterable if condition]\n",
    "#creating new list from existing list\n",
    "#expression = The operation or value to store in the new list.\n",
    "#item = The variable representing each element in the iterable.\n",
    "#iterable = The source data structure(like tuple)"
   ]
  },
  {
   "cell_type": "code",
   "execution_count": 46,
   "id": "fc968048",
   "metadata": {},
   "outputs": [
    {
     "name": "stdout",
     "output_type": "stream",
     "text": [
      "[0, 1, 4, 9, 16]\n"
     ]
    }
   ],
   "source": [
    "square = [x ** 2 for x in range(5)]\n",
    "print(square)"
   ]
  },
  {
   "cell_type": "code",
   "execution_count": 53,
   "id": "1a9b209d",
   "metadata": {},
   "outputs": [
    {
     "ename": "KeyboardInterrupt",
     "evalue": "",
     "output_type": "error",
     "traceback": [
      "\u001b[31m---------------------------------------------------------------------------\u001b[39m",
      "\u001b[31mKeyboardInterrupt\u001b[39m                         Traceback (most recent call last)",
      "\u001b[36mCell\u001b[39m\u001b[36m \u001b[39m\u001b[32mIn[53]\u001b[39m\u001b[32m, line 4\u001b[39m\n\u001b[32m      2\u001b[39m mul_list = []\n\u001b[32m      3\u001b[39m \u001b[38;5;28;01mwhile\u001b[39;00m x<\u001b[32m6\u001b[39m:\n\u001b[32m----> \u001b[39m\u001b[32m4\u001b[39m     a = \u001b[43ma\u001b[49m\u001b[43m*\u001b[49m\u001b[43ma\u001b[49m\n\u001b[32m      5\u001b[39m     a += \u001b[32m1\u001b[39m\n\u001b[32m      6\u001b[39m     mul_list.append(a)\n",
      "\u001b[31mKeyboardInterrupt\u001b[39m: "
     ]
    }
   ],
   "source": [
    "x =0\n",
    "mul_list = []\n",
    "while x<6:\n",
    "    a = a*a\n",
    "    a += 1\n",
    "    mul_list.append(a)\n",
    "print(mul_list)\n"
   ]
  },
  {
   "cell_type": "markdown",
   "id": "5dab14ab",
   "metadata": {},
   "source": [
    "25/05/2025"
   ]
  },
  {
   "cell_type": "code",
   "execution_count": 13,
   "id": "232f2761",
   "metadata": {},
   "outputs": [
    {
     "name": "stdout",
     "output_type": "stream",
     "text": [
      "[0, 2, 4, 6, 8, 10]\n"
     ]
    }
   ],
   "source": [
    "even = [x for x in range(11) if x % 2 == 0 ]\n",
    "print(even)"
   ]
  },
  {
   "cell_type": "code",
   "execution_count": 14,
   "id": "10d1868c",
   "metadata": {},
   "outputs": [
    {
     "name": "stdout",
     "output_type": "stream",
     "text": [
      "[1, 3, 5, 7, 9]\n"
     ]
    }
   ],
   "source": [
    "odd = [x for x in range(11) if x % 2 != 0 ]\n",
    "print(odd)"
   ]
  },
  {
   "cell_type": "code",
   "execution_count": 12,
   "id": "b05c4f15",
   "metadata": {},
   "outputs": [
    {
     "name": "stdout",
     "output_type": "stream",
     "text": [
      "[1, 4, 5, 6, 7, 8, 10]\n"
     ]
    }
   ],
   "source": [
    "#Interview question\n",
    "numbers = [1,2,3,4,5,6,7,8,9,10]\n",
    "value_remove = [2,3,9]\n",
    "filtered_list = [i for i in numbers if i not in value_remove]\n",
    "print(filtered_list)"
   ]
  },
  {
   "cell_type": "markdown",
   "id": "b4c70c67",
   "metadata": {},
   "source": [
    "Packing and unpacking"
   ]
  },
  {
   "cell_type": "code",
   "execution_count": 26,
   "id": "f8d38ba2",
   "metadata": {},
   "outputs": [
    {
     "name": "stdout",
     "output_type": "stream",
     "text": [
      "1\n",
      "2\n",
      "3\n",
      "4\n",
      "5\n"
     ]
    }
   ],
   "source": [
    "list1 = [1,2,3,4,5]\n",
    "(a,b,c,d,e) = list1\n",
    "print(a)\n",
    "print(b)\n",
    "print(c)\n",
    "print(d)\n",
    "print(e)\n"
   ]
  },
  {
   "cell_type": "code",
   "execution_count": null,
   "id": "e59b036b",
   "metadata": {},
   "outputs": [
    {
     "name": "stdout",
     "output_type": "stream",
     "text": [
      "['daniel.roberts@gmail.com', 'arjun.mehta@gmail.com', 'sophia.lee88@gmail.com', 'sneha.patil01@gmail.com']\n"
     ]
    }
   ],
   "source": [
    "#Email filtering\n",
    "emails = [\n",
    "    \"alex.jones@outlook.com\",\n",
    "    \"daniel.roberts@gmail.com\",\n",
    "    \"priya.sharma@outlook.com\",\n",
    "    \"kevin_92@outlook.com\",\n",
    "    \"maria.lopes@yahoo.com\",\n",
    "    \"sophia.lee88@gmail.com\",\n",
    "    \"rajiv.kumar@yahoo.com\",\n",
    "    \"emily_sky@yahoo.com\",\n",
    "    \"arjun.mehta@gmail.com\",\n",
    "   \"sneha.patil01@gmail.com\"\n",
    "]\n",
    "gmail_users = [i for i in emails if \"@gmail.com\" in i]\n",
    "print(gmail_users)\n",
    "   \n"
   ]
  },
  {
   "cell_type": "code",
   "execution_count": null,
   "id": "d91617a2",
   "metadata": {},
   "outputs": [],
   "source": []
  }
 ],
 "metadata": {
  "kernelspec": {
   "display_name": "Python (myenv)",
   "language": "python",
   "name": "myenv"
  },
  "language_info": {
   "codemirror_mode": {
    "name": "ipython",
    "version": 3
   },
   "file_extension": ".py",
   "mimetype": "text/x-python",
   "name": "python",
   "nbconvert_exporter": "python",
   "pygments_lexer": "ipython3",
   "version": "3.13.7"
  }
 },
 "nbformat": 4,
 "nbformat_minor": 5
}
