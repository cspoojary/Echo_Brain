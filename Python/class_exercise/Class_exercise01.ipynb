{
 "cells": [
  {
   "cell_type": "markdown",
   "id": "6462d539",
   "metadata": {},
   "source": [
    "INPUT()"
   ]
  },
  {
   "cell_type": "code",
   "execution_count": 1,
   "id": "f2902b2a",
   "metadata": {},
   "outputs": [
    {
     "name": "stdout",
     "output_type": "stream",
     "text": [
      "My Name is : Chaithu\n",
      "My name is : 4\n"
     ]
    }
   ],
   "source": [
    "#1.Get input for variable name and age.print it.\n",
    "Name = input(\"Enter your name: \")\n",
    "Age = int(input(\"Enter your Age:\"))\n",
    "print(\"My Name is :\",Name)\n",
    "print(\"My name is :\",Age)"
   ]
  },
  {
   "cell_type": "code",
   "execution_count": null,
   "id": "7814456a",
   "metadata": {},
   "outputs": [],
   "source": [
    "# String\n",
    "x = input(\"Enter x value:\")\n",
    "y = input(\"Enter y value:\")\n",
    "print(x + y)"
   ]
  },
  {
   "cell_type": "code",
   "execution_count": null,
   "id": "781f7e47",
   "metadata": {},
   "outputs": [],
   "source": [
    "name = input(\"Enter the name:\")\n",
    "place = input(\"Enter the Place: \")\n",
    "print(\"I am \" + name, \"from \" + place)"
   ]
  },
  {
   "cell_type": "code",
   "execution_count": null,
   "id": "34fad47b",
   "metadata": {},
   "outputs": [],
   "source": [
    "#INT\n",
    "x = int(input(\"Enter x value:\"))\n",
    "y = int(input(\"Enter y value: \"))\n",
    "print(x+y)"
   ]
  },
  {
   "cell_type": "code",
   "execution_count": null,
   "id": "cc53b20c",
   "metadata": {},
   "outputs": [],
   "source": [
    "#float\n",
    "x = float(input(\"Enter x value:\"))\n",
    "y = float(input(\"Enter y value:\"))\n",
    "print(x+y)"
   ]
  },
  {
   "cell_type": "code",
   "execution_count": 38,
   "id": "774f8c57",
   "metadata": {},
   "outputs": [
    {
     "name": "stdout",
     "output_type": "stream",
     "text": [
      "My Name is : Chaithu\n",
      "My name is : 22\n",
      "My name is : India\n"
     ]
    }
   ],
   "source": [
    "#2.Get for variable name and age, address. print it.\n",
    "Name = input(\"Enter You name:\")\n",
    "Age = int(input(\"Enter your age\"))\n",
    "country = input(\"Enter your country:\")\n",
    "print(\"My Name is :\",Name)\n",
    "print(\"My name is :\",Age)\n",
    "print(\"My name is :\",country)"
   ]
  },
  {
   "cell_type": "markdown",
   "id": "58124140",
   "metadata": {},
   "source": [
    "OPERATOR:"
   ]
  },
  {
   "cell_type": "code",
   "execution_count": 39,
   "id": "2741c781",
   "metadata": {},
   "outputs": [
    {
     "name": "stdout",
     "output_type": "stream",
     "text": [
      "11.666666666666666\n"
     ]
    }
   ],
   "source": [
    "\"\"\"3.Get integer input for variable a, b, c.\n",
    "multiply all 3 variables(a*b*c)\n",
    "add all 3 variable(a+b+c)\n",
    "divide the multiplied value by added values\n",
    "print it.\"\"\"\n",
    "a = int(input(\"Enter a value:\"))\n",
    "b = int(input(\"Enter b value:\"))\n",
    "c = int(input(\"Enter c value:\"))\n",
    "\n",
    "mul = a*b*c\n",
    "add = a+b+c\n",
    "\n",
    "final_ans = mul/add\n",
    "\n",
    "print(final_ans)"
   ]
  },
  {
   "cell_type": "code",
   "execution_count": 42,
   "id": "aca9054d",
   "metadata": {},
   "outputs": [
    {
     "name": "stdout",
     "output_type": "stream",
     "text": [
      "My name is: Chaithu\n",
      "My Score is 5.6\n",
      "My Department is Computer Science\n"
     ]
    }
   ],
   "source": [
    "\"\"\"4.Get input for variable name,score,department\n",
    "Get score for 100;\n",
    "divide 100/10\"\"\"\n",
    "Name = input(\"Enter your name;\")\n",
    "Score = int(input(\"Enter your score\"))\n",
    "department = input(\"Enter your department\")\n",
    "\n",
    "perc = Score/10\n",
    "\n",
    "print(\"My name is:\",Name)\n",
    "print(\"My Score is\",perc)\n",
    "print(\"My Department is\",department)"
   ]
  },
  {
   "cell_type": "markdown",
   "id": "3fce0f95",
   "metadata": {},
   "source": [
    "Each 3 examples for operators."
   ]
  },
  {
   "cell_type": "markdown",
   "id": "b0c62334",
   "metadata": {},
   "source": [
    "Arithmatic Operator"
   ]
  },
  {
   "cell_type": "code",
   "execution_count": null,
   "id": "3f71e362",
   "metadata": {},
   "outputs": [],
   "source": [
    "x = 6\n",
    "y = 8\n",
    "print(x+y) #addition\n",
    "print(x-y) #Substraction\n",
    "print(x*y) #Multiplication\n",
    "print(x/y) #Division\n",
    "print(x%y) #Modulus\n",
    "print(x**y) #Exponential\n",
    "print(x//y) #Floor division"
   ]
  },
  {
   "cell_type": "code",
   "execution_count": null,
   "id": "72a6a9b0",
   "metadata": {},
   "outputs": [],
   "source": [
    "x = 14\n",
    "y = 22\n",
    "print(x+y) #addition\n",
    "print(x-y) #Substraction\n",
    "print(x*y) #Multiplication\n",
    "print(x/y) #Division\n",
    "print(x%y) #Modulus\n",
    "print(x**y) #Exponential\n",
    "print(x//y) #Floor division"
   ]
  },
  {
   "cell_type": "code",
   "execution_count": null,
   "id": "9b138ed0",
   "metadata": {},
   "outputs": [],
   "source": [
    "x = 98\n",
    "y = 45\n",
    "print(x+y) #addition\n",
    "print(x-y) #Substraction\n",
    "print(x*y) #Multiplication\n",
    "print(x/y) #Division\n",
    "print(x%y) #Modulus\n",
    "print(x**y) #Exponential\n",
    "print(x//y) #Floor division"
   ]
  },
  {
   "cell_type": "code",
   "execution_count": null,
   "id": "741f9cd1",
   "metadata": {},
   "outputs": [],
   "source": [
    "#Assignment operator\n",
    "x = 5\n",
    "x += 4\n",
    "print(x)\n",
    "x -= 5\n",
    "print(x)\n",
    "x *= 6\n",
    "print(x)\n",
    "x /= 8\n",
    "print(x)\n",
    "x %= 8\n",
    "print(x)\n",
    "x //= 8\n",
    "print(x)\n",
    "x **= 3\n",
    "print(x)\n",
    "#x &= 5 it won't support for int and float\n",
    "#x |= 7 it won't support for int and float\n",
    "#x ^= 8 it won't support for int and float\n",
    "#x >>= 7 it won't support for int and float\n",
    "# x <<= 9 it won't support for int and float"
   ]
  },
  {
   "cell_type": "markdown",
   "id": "66627dbf",
   "metadata": {},
   "source": [
    "COMPARISON OPERATOR"
   ]
  },
  {
   "cell_type": "code",
   "execution_count": null,
   "id": "49487c23",
   "metadata": {},
   "outputs": [],
   "source": [
    "x = 6\n",
    "y = 8\n",
    "print(x == y)\n",
    "print(x != y)\n",
    "print(x > y)\n",
    "print(x < y)\n",
    "print(x >= y)\n",
    "print(x <= y)"
   ]
  },
  {
   "cell_type": "code",
   "execution_count": null,
   "id": "4be284d4",
   "metadata": {},
   "outputs": [],
   "source": [
    "x = 9\n",
    "y = 9\n",
    "print(x == y)\n",
    "print(x != y)\n",
    "print(x > y)\n",
    "print(x < y)\n",
    "print(x >= y)\n",
    "print(x <= y)"
   ]
  },
  {
   "cell_type": "code",
   "execution_count": null,
   "id": "3ee372e8",
   "metadata": {},
   "outputs": [],
   "source": [
    "x = 7\n",
    "y = 2\n",
    "print(x == y)\n",
    "print(x != y)\n",
    "print(x > y)\n",
    "print(x < y)\n",
    "print(x >= y)\n",
    "print(x <= y)"
   ]
  },
  {
   "cell_type": "markdown",
   "id": "c2096736",
   "metadata": {},
   "source": [
    "BITWISE OPERATOR"
   ]
  },
  {
   "cell_type": "code",
   "execution_count": null,
   "id": "d1e7005e",
   "metadata": {},
   "outputs": [],
   "source": [
    "x = 4\n",
    "y = 8\n",
    "print(x & y) #AND\n",
    "print(x | y) #OR\n",
    "print(x^y)  #XOR\n",
    "print(~4) #NOT\n",
    "print(x << 2) #LEFT SHIFT\n",
    "print(x >> 2) #RIGHT SHIFT"
   ]
  },
  {
   "cell_type": "code",
   "execution_count": null,
   "id": "2c5d3cb5",
   "metadata": {},
   "outputs": [],
   "source": [
    "x = 12\n",
    "y = 5\n",
    "print(x & y) #AND\n",
    "print(x | y) #OR\n",
    "print(x^y)  #XOR\n",
    "print(~12) #NOT\n",
    "print(x << 2) #LEFT SHIFT\n",
    "print(x >> 2) #RIGHT SHIFT"
   ]
  },
  {
   "cell_type": "code",
   "execution_count": null,
   "id": "14c07f1a",
   "metadata": {},
   "outputs": [],
   "source": [
    "x = 55\n",
    "y = 8\n",
    "print(x & y) #AND\n",
    "print(x | y) #OR\n",
    "print(x^y)  #XOR\n",
    "print(~44) #NOT\n",
    "print(x << 2) #LEFT SHIFT\n",
    "print(x >> 2) #RIGHT SHIFT"
   ]
  },
  {
   "cell_type": "markdown",
   "id": "58567bf8",
   "metadata": {},
   "source": [
    "ESCAPE CHARACTER"
   ]
  },
  {
   "cell_type": "code",
   "execution_count": null,
   "id": "dea76b93",
   "metadata": {},
   "outputs": [],
   "source": [
    "print('it\\'s chaithanya')  #\\\n",
    "print(\"hello\\nworld\")   #\\n\n",
    "print(\"chaitanya\\rsuresh111\") #\\r\n",
    "print(\"name\\tage\\tclass\")  #\\t\n",
    "print(\"hell\\bworld\")   #\\b\n",
    "print(\"name\\fage\\fclass\")  #\\f\n",
    "print(\"name\\vage\\vclass\")  #\\v"
   ]
  },
  {
   "cell_type": "markdown",
   "id": "21e09bed",
   "metadata": {},
   "source": [
    "#### FLOW CONTROL\n",
    "\n"
   ]
  },
  {
   "cell_type": "code",
   "execution_count": null,
   "id": "ab3020c6",
   "metadata": {},
   "outputs": [],
   "source": [
    "#Conditional Statement = 1.if 2.if---else 3.if---elif--\n"
   ]
  },
  {
   "cell_type": "code",
   "execution_count": 3,
   "id": "21efc913",
   "metadata": {},
   "outputs": [
    {
     "name": "stdout",
     "output_type": "stream",
     "text": [
      "Number is zero\n"
     ]
    }
   ],
   "source": [
    "#1.Write a python program to check if a number is positive,negative or zero.\n",
    "\n",
    "number = int(input(\"Enter a number(Negative or positive or zero)\"))\n",
    "\n",
    "if number < 0:\n",
    "    print(\"Number is Negative\")\n",
    "elif number > 0:\n",
    "    print(\"Number is Positive\")\n",
    "else:\n",
    "    print(\"Number is zero\")\n"
   ]
  },
  {
   "cell_type": "code",
   "execution_count": 4,
   "id": "afbe3cc6",
   "metadata": {},
   "outputs": [
    {
     "name": "stdout",
     "output_type": "stream",
     "text": [
      "You are not eligible to vote\n"
     ]
    }
   ],
   "source": [
    "# 2.Write a program that takes an age as input and checks if the person is eliguble to vote(18+)\n",
    "Age_person = int(input(\"Enter yor age\"))\n",
    "\n",
    "if Age_person >= 18:\n",
    "    print(\"You are eligible to vote\")\n",
    "else:\n",
    "    print(\"You are not eligible to vote\")"
   ]
  },
  {
   "cell_type": "code",
   "execution_count": null,
   "id": "fefaf47e",
   "metadata": {},
   "outputs": [
    {
     "name": "stdout",
     "output_type": "stream",
     "text": [
      "Number is odd\n"
     ]
    }
   ],
   "source": [
    "#3.Write a Python program to check whether a given number is even or odd.\n",
    "number= int(input(\"Enter the number\"))\n",
    "\n",
    "if number % 2 == 0:\n",
    "    print(\"Number is even\")\n",
    "else:\n",
    "    print(\"Number is odd\")"
   ]
  },
  {
   "cell_type": "code",
   "execution_count": null,
   "id": "5120cfbf",
   "metadata": {},
   "outputs": [
    {
     "name": "stdout",
     "output_type": "stream",
     "text": [
      "Total payable amount is 4500.0\n"
     ]
    }
   ],
   "source": [
    "\"\"\"4.A shop gives a 10% discount if the purchase amount is more than ₹1000. Write a Python\n",
    "program to calculate the final bill amount.\"\"\"\n",
    "Actual_price = int(input(\"Enter purchase amount:\"))\n",
    "\n",
    "if Actual_price > 1000:\n",
    "    final_bill = Actual_price - Actual_price*0.1\n",
    "    print(\"Total payable amount is\",final_bill)"
   ]
  },
  {
   "cell_type": "code",
   "execution_count": null,
   "id": "d1361fbf",
   "metadata": {},
   "outputs": [
    {
     "name": "stdout",
     "output_type": "stream",
     "text": [
      "76\n",
      "33\n",
      "99\n",
      "c largest number, it is : 99\n"
     ]
    }
   ],
   "source": [
    "#5.Write a Python program to find the largest of three numbers entered by the user.\n",
    "a = int(input(\"Enter a value:\"))\n",
    "b = int(input(\"Enter b value:\"))\n",
    "c = int(input(\"Enter c value:\"))\n",
    "\n",
    "print(a)\n",
    "print(b)\n",
    "print(c)\n",
    "\n",
    "if a > b and a > c:\n",
    "    print(\"a is largest number, it is :\",a)\n",
    "elif b > a and b > c:\n",
    "    print(\"b is largest number, it is :\",b)\n",
    "else: \n",
    "    print(\"c is largest number, it is :\",c)\n"
   ]
  },
  {
   "cell_type": "markdown",
   "id": "20e3f601",
   "metadata": {},
   "source": [
    "## Shorthand method"
   ]
  },
  {
   "cell_type": "code",
   "execution_count": null,
   "id": "5809f567",
   "metadata": {},
   "outputs": [
    {
     "name": "stdout",
     "output_type": "stream",
     "text": [
      "You are an adult\n"
     ]
    }
   ],
   "source": [
    "age = 18\n",
    "message = \"You are an adult\" if age >= 18 else \"You are a child\"\n",
    "print(message)"
   ]
  },
  {
   "cell_type": "code",
   "execution_count": 20,
   "id": "48db3739",
   "metadata": {},
   "outputs": [
    {
     "name": "stdout",
     "output_type": "stream",
     "text": [
      "Number is odd\n"
     ]
    }
   ],
   "source": [
    "#odd or even\n",
    "number = int(input(\"Enter an integer:\"))\n",
    "print(\"Number is even\" if number % 2 == 0 else \"Number is odd\")"
   ]
  },
  {
   "cell_type": "markdown",
   "id": "46415a37",
   "metadata": {},
   "source": [
    "Assignment of complex\n"
   ]
  },
  {
   "cell_type": "code",
   "execution_count": 30,
   "id": "59e5b47a",
   "metadata": {},
   "outputs": [
    {
     "name": "stdout",
     "output_type": "stream",
     "text": [
      "(4+6j)\n"
     ]
    }
   ],
   "source": [
    "real_part = int(input(\"Enter real part :\"))\n",
    "imaginary_part = int(input(\"Enter imaginary part:\"))\n",
    "cmplx = complex(real_part, imaginary_part)\n",
    "print(cmplx)"
   ]
  },
  {
   "cell_type": "markdown",
   "id": "c0dff1b3",
   "metadata": {},
   "source": [
    "LOOPING STATEMENT"
   ]
  },
  {
   "cell_type": "code",
   "execution_count": 1,
   "id": "b0a09e07",
   "metadata": {},
   "outputs": [],
   "source": [
    "sequence = (2,4,6,8)\n",
    "variable = 4\n",
    "for variable in sequence:\n",
    "    pass"
   ]
  },
  {
   "cell_type": "code",
   "execution_count": 29,
   "id": "bc9fb9b7",
   "metadata": {},
   "outputs": [
    {
     "name": "stdout",
     "output_type": "stream",
     "text": [
      "0\n",
      "1\n",
      "2\n",
      "3\n",
      "4\n",
      "5\n"
     ]
    }
   ],
   "source": [
    "for x in range(6):\n",
    "    print(x)"
   ]
  },
  {
   "cell_type": "code",
   "execution_count": 31,
   "id": "32b1b863",
   "metadata": {},
   "outputs": [
    {
     "name": "stdout",
     "output_type": "stream",
     "text": [
      "Hi\n",
      "Hello\n",
      "Hi\n",
      "Hello\n",
      "Hi\n",
      "Hello\n",
      "Hi\n",
      "Hello\n",
      "Hi\n",
      "Hello\n",
      "Hi\n",
      "Hello\n"
     ]
    }
   ],
   "source": [
    "for x in range(6):\n",
    "    print(\"Hi\")\n",
    "    print(\"Hello\")\n"
   ]
  },
  {
   "cell_type": "code",
   "execution_count": null,
   "id": "85c290bc",
   "metadata": {},
   "outputs": [
    {
     "name": "stdout",
     "output_type": "stream",
     "text": [
      "0\n",
      "2\n",
      "4\n",
      "6\n",
      "8\n",
      "10\n"
     ]
    }
   ],
   "source": [
    "for chaithu in range(0,11,2):\n",
    "    print(chaithu)"
   ]
  },
  {
   "cell_type": "markdown",
   "id": "e570dc12",
   "metadata": {},
   "source": [
    "NESTED FOR\n"
   ]
  },
  {
   "cell_type": "code",
   "execution_count": 2,
   "id": "aa647cf3",
   "metadata": {},
   "outputs": [
    {
     "name": "stdout",
     "output_type": "stream",
     "text": [
      "0\n",
      "0\n",
      "1\n",
      "2\n",
      "3\n",
      "4\n",
      "1\n",
      "0\n",
      "1\n",
      "2\n",
      "3\n",
      "4\n",
      "2\n",
      "0\n",
      "1\n",
      "2\n",
      "3\n",
      "4\n",
      "3\n",
      "0\n",
      "1\n",
      "2\n",
      "3\n",
      "4\n",
      "4\n",
      "0\n",
      "1\n",
      "2\n",
      "3\n",
      "4\n",
      "5\n",
      "0\n",
      "1\n",
      "2\n",
      "3\n",
      "4\n",
      "6\n",
      "0\n",
      "1\n",
      "2\n",
      "3\n",
      "4\n",
      "7\n",
      "0\n",
      "1\n",
      "2\n",
      "3\n",
      "4\n",
      "8\n",
      "0\n",
      "1\n",
      "2\n",
      "3\n",
      "4\n",
      "9\n",
      "0\n",
      "1\n",
      "2\n",
      "3\n",
      "4\n",
      "10\n",
      "0\n",
      "1\n",
      "2\n",
      "3\n",
      "4\n"
     ]
    }
   ],
   "source": [
    "for i in range(0,11):\n",
    "    print(i)\n",
    "    for y in range(5):\n",
    "        print(y)"
   ]
  },
  {
   "cell_type": "code",
   "execution_count": 3,
   "id": "a585f69f",
   "metadata": {},
   "outputs": [
    {
     "name": "stdout",
     "output_type": "stream",
     "text": [
      "0\n",
      "2\n",
      "4\n",
      "6\n",
      "8\n",
      "10\n"
     ]
    }
   ],
   "source": [
    "for x in range(0,11):\n",
    "    if x%2==0:\n",
    "        print(x)"
   ]
  },
  {
   "cell_type": "markdown",
   "id": "846f3bd5",
   "metadata": {},
   "source": [
    "Transfer statement"
   ]
  },
  {
   "cell_type": "code",
   "execution_count": 4,
   "id": "6527d2eb",
   "metadata": {},
   "outputs": [
    {
     "name": "stdout",
     "output_type": "stream",
     "text": [
      "1\n",
      "2\n"
     ]
    }
   ],
   "source": [
    "for i in range(1,6):\n",
    "    if i == 3:\n",
    "        break\n",
    "    print(i)"
   ]
  },
  {
   "cell_type": "code",
   "execution_count": 5,
   "id": "d96098a5",
   "metadata": {},
   "outputs": [
    {
     "name": "stdout",
     "output_type": "stream",
     "text": [
      "1\n",
      "2\n",
      "3\n",
      "4\n",
      "6\n",
      "7\n",
      "8\n",
      "9\n",
      "10\n"
     ]
    }
   ],
   "source": [
    "for i in range(1,11):\n",
    "    if i == 5:\n",
    "        continue\n",
    "    print(i)"
   ]
  },
  {
   "cell_type": "code",
   "execution_count": 6,
   "id": "88494a9a",
   "metadata": {},
   "outputs": [
    {
     "name": "stdout",
     "output_type": "stream",
     "text": [
      "1\n",
      "2\n",
      "3\n",
      "4\n",
      "5\n",
      "6\n",
      "7\n",
      "8\n",
      "9\n",
      "10\n"
     ]
    }
   ],
   "source": [
    "for i in range(1,11):\n",
    "    if i == 5:\n",
    "        pass\n",
    "    print(i)"
   ]
  },
  {
   "cell_type": "code",
   "execution_count": 7,
   "id": "295c9fe8",
   "metadata": {},
   "outputs": [
    {
     "name": "stdout",
     "output_type": "stream",
     "text": [
      "I'am i: 0 I'am j: 0\n",
      "I'am i: 0 I'am j: 1\n"
     ]
    }
   ],
   "source": [
    "for i in range(1):\n",
    "    for j in range(2):\n",
    "        print(\"I'am i:\",i,\"I'am j:\",j)"
   ]
  },
  {
   "cell_type": "code",
   "execution_count": 8,
   "id": "371f3e1d",
   "metadata": {},
   "outputs": [
    {
     "name": "stdout",
     "output_type": "stream",
     "text": [
      "0 1 2 3 4 "
     ]
    }
   ],
   "source": [
    "for i in range(5):\n",
    "    print(i,end=\" \")"
   ]
  },
  {
   "cell_type": "code",
   "execution_count": 11,
   "id": "d6fb8f40",
   "metadata": {},
   "outputs": [
    {
     "name": "stdout",
     "output_type": "stream",
     "text": [
      "\n",
      "1 \n",
      "2 2 \n",
      "3 3 3 \n",
      "4 4 4 4 \n"
     ]
    }
   ],
   "source": [
    "for i in range(5):\n",
    "    for j in range(i):\n",
    "        print(i,end=\" \")\n",
    "    print()"
   ]
  },
  {
   "cell_type": "code",
   "execution_count": 12,
   "id": "89a38ce6",
   "metadata": {},
   "outputs": [
    {
     "name": "stdout",
     "output_type": "stream",
     "text": [
      "\n",
      "* \n",
      "* * \n",
      "* * * \n",
      "* * * * \n"
     ]
    }
   ],
   "source": [
    "for i in range(5):\n",
    "    for j in range(i):\n",
    "        print(\"*\",end=\" \")\n",
    "    print()"
   ]
  },
  {
   "cell_type": "code",
   "execution_count": 13,
   "id": "d599a419",
   "metadata": {},
   "outputs": [
    {
     "name": "stdout",
     "output_type": "stream",
     "text": [
      "* * * \n",
      "* * \n",
      "* \n",
      "\n",
      "\n"
     ]
    }
   ],
   "source": [
    "for i in range(5):\n",
    "    for j in range(j):\n",
    "        print(\"*\",end=\" \")\n",
    "    print()"
   ]
  },
  {
   "cell_type": "code",
   "execution_count": 16,
   "id": "1183a27a",
   "metadata": {},
   "outputs": [
    {
     "name": "stdout",
     "output_type": "stream",
     "text": [
      "    *\n",
      "    * *\n",
      "    *   *\n",
      "    *     *\n",
      "    *********\n"
     ]
    }
   ],
   "source": [
    "n = 5 \n",
    "for i in range(1,n+1):\n",
    "    if i==1 or i==n:\n",
    "        print(\" \"*(n-1)+ \"*\"* (2*i-1))\n",
    "    else:\n",
    "        print(\" \"*(n-1)+\"*\"+\" \"*(2*i-3)+\"*\")"
   ]
  },
  {
   "cell_type": "code",
   "execution_count": 17,
   "id": "a8873289",
   "metadata": {},
   "outputs": [
    {
     "name": "stdout",
     "output_type": "stream",
     "text": [
      "* * * * * * * * * \n",
      "*               * \n",
      "*               * \n",
      "*               * \n",
      "*               * \n",
      "*               * \n",
      "*               * \n",
      "*               * \n",
      "* * * * * * * * * \n"
     ]
    }
   ],
   "source": [
    "n = int(input(\"Enter the number:\")) \n",
    "\n",
    "for i in range(n):\n",
    "    if i == 0 or i == n - 1:\n",
    "        print(\"* \" * n)\n",
    "    else:\n",
    "        print(\"* \" + \"  \" * (n - 2) + \"* \")"
   ]
  },
  {
   "cell_type": "code",
   "execution_count": 18,
   "id": "85837ccd",
   "metadata": {},
   "outputs": [
    {
     "name": "stdout",
     "output_type": "stream",
     "text": [
      "* \n",
      "* * \n",
      "* * * \n",
      "* * * * \n",
      "* * * * * \n",
      "* * * * * * \n",
      "* * * * * * * \n",
      "* * * * * * * * \n"
     ]
    }
   ],
   "source": [
    "#Right hand\n",
    "n = int(input(\"Enter the number:\"))\n",
    "\n",
    "for i in range(1, n + 1):\n",
    "    print(\"* \" * i)"
   ]
  },
  {
   "cell_type": "code",
   "execution_count": 19,
   "id": "ea9452fe",
   "metadata": {},
   "outputs": [
    {
     "name": "stdout",
     "output_type": "stream",
     "text": [
      "            * \n",
      "          * * \n",
      "        * * * \n",
      "      * * * * \n",
      "    * * * * * \n",
      "  * * * * * * \n",
      "* * * * * * * \n"
     ]
    }
   ],
   "source": [
    "n =int(input(\"Enter the number:\"))\n",
    "\n",
    "for i in range(1, n + 1):\n",
    "    print(\"  \" * (n - i) + \"* \" * i)\n"
   ]
  },
  {
   "cell_type": "markdown",
   "id": "0ed5a35c",
   "metadata": {},
   "source": [
    "19/09/2025-WHILE\n"
   ]
  },
  {
   "cell_type": "code",
   "execution_count": 20,
   "id": "db4a9df6",
   "metadata": {},
   "outputs": [
    {
     "name": "stdout",
     "output_type": "stream",
     "text": [
      "(1, 1) (1, 2) (1, 3) (1, 4) \n",
      "(2, 1) (2, 2) (2, 3) (2, 4) \n",
      "(3, 1) (3, 2) (3, 3) (3, 4) \n",
      "(4, 1) (4, 2) (4, 3) (4, 4) \n"
     ]
    }
   ],
   "source": [
    "n = 4\n",
    "\n",
    "for i in range(1,n+1):\n",
    "    for j in range(1,n+1):\n",
    "        print((i,j),end = \" \")\n",
    "    print()"
   ]
  },
  {
   "cell_type": "code",
   "execution_count": 21,
   "id": "340bbf9e",
   "metadata": {},
   "outputs": [
    {
     "name": "stdout",
     "output_type": "stream",
     "text": [
      "0\n",
      "1\n",
      "2\n",
      "3\n",
      "4\n",
      "5\n"
     ]
    }
   ],
   "source": [
    "number = 0\n",
    "while number <= 5:\n",
    "    print(number)\n",
    "    number += 1 "
   ]
  },
  {
   "cell_type": "code",
   "execution_count": 22,
   "id": "773ef9a2",
   "metadata": {},
   "outputs": [
    {
     "name": "stdout",
     "output_type": "stream",
     "text": [
      "Stay inside!\n"
     ]
    }
   ],
   "source": [
    "raining = True\n",
    "while raining:\n",
    "    print(\"Stay inside!\")\n",
    "    raining = False"
   ]
  },
  {
   "cell_type": "code",
   "execution_count": 23,
   "id": "a3eb53d4",
   "metadata": {},
   "outputs": [
    {
     "name": "stdout",
     "output_type": "stream",
     "text": [
      "5\n",
      "4\n",
      "3\n",
      "2\n",
      "1\n"
     ]
    }
   ],
   "source": [
    "number = 5\n",
    "while  number >= 1:\n",
    "    print(number)\n",
    "    number -= 1"
   ]
  },
  {
   "cell_type": "code",
   "execution_count": 24,
   "id": "5e3388ac",
   "metadata": {},
   "outputs": [
    {
     "name": "stdout",
     "output_type": "stream",
     "text": [
      "0\n",
      "2\n",
      "4\n",
      "6\n",
      "8\n",
      "10\n"
     ]
    }
   ],
   "source": [
    "number = 0\n",
    "while number <= 10:\n",
    "    print(number)\n",
    "    number += 2"
   ]
  },
  {
   "cell_type": "code",
   "execution_count": 25,
   "id": "07d0c8d6",
   "metadata": {},
   "outputs": [
    {
     "name": "stdout",
     "output_type": "stream",
     "text": [
      "1\n",
      "3\n",
      "5\n",
      "7\n",
      "9\n"
     ]
    }
   ],
   "source": [
    "number = 1\n",
    "while number <= 10:\n",
    "    print(number)\n",
    "    number += 2"
   ]
  },
  {
   "cell_type": "code",
   "execution_count": 26,
   "id": "33d2f5b7",
   "metadata": {},
   "outputs": [
    {
     "name": "stdout",
     "output_type": "stream",
     "text": [
      "0\n",
      "2\n",
      "4\n",
      "6\n",
      "8\n",
      "10\n"
     ]
    }
   ],
   "source": [
    "#even number using conditional statement in while\n",
    "number = 0\n",
    "while number <= 10:\n",
    "    if number % 2 == 0:\n",
    "        print(number)\n",
    "    else:\n",
    "        pass\n",
    "    number += 1"
   ]
  },
  {
   "cell_type": "code",
   "execution_count": 27,
   "id": "18a19d00",
   "metadata": {},
   "outputs": [
    {
     "name": "stdout",
     "output_type": "stream",
     "text": [
      "1\n",
      "3\n",
      "5\n",
      "7\n",
      "9\n"
     ]
    }
   ],
   "source": [
    "#odd number using conditional statement in while\n",
    "number = 0\n",
    "while number <= 10:\n",
    "    if number % 2 != 0:\n",
    "        print(number)\n",
    "    else:\n",
    "        pass\n",
    "    number += 1"
   ]
  },
  {
   "cell_type": "code",
   "execution_count": 28,
   "id": "dd76ce50",
   "metadata": {},
   "outputs": [
    {
     "name": "stdout",
     "output_type": "stream",
     "text": [
      "Correct\n"
     ]
    }
   ],
   "source": [
    "Answer = \" \"\n",
    "while Answer != \"Python\":\n",
    "    Answer = input(\"Which is the best programming language\")\n",
    "print(\"Correct\")"
   ]
  },
  {
   "cell_type": "code",
   "execution_count": 29,
   "id": "7a6f2ac5",
   "metadata": {},
   "outputs": [
    {
     "name": "stdout",
     "output_type": "stream",
     "text": [
      "You guessed it!\n"
     ]
    }
   ],
   "source": [
    "import random\n",
    "secret_number = random.randrange(1,10)\n",
    "guess = 0\n",
    "\n",
    "while guess != secret_number:\n",
    "    guess = int(input(\"Guess number between 1 and 10:\"))\n",
    "\n",
    "print(\"You guessed it!\")"
   ]
  },
  {
   "cell_type": "markdown",
   "id": "8f8514be",
   "metadata": {},
   "source": [
    "Assignment - 16/09/2025"
   ]
  },
  {
   "cell_type": "code",
   "execution_count": 3,
   "id": "d6fe70e2",
   "metadata": {},
   "outputs": [
    {
     "name": "stdout",
     "output_type": "stream",
     "text": [
      "* * * * \n",
      "* 3 3 *\n",
      "* 3 3 *\n",
      "* * * * \n"
     ]
    }
   ],
   "source": [
    "n = int(input(\"Enter your Value:\"))\n",
    "\n",
    "for i in range(n):\n",
    "    if i == 0 or i == n-1:\n",
    "        print(\"* \" *n)\n",
    "    else:\n",
    "        print(\"* \"+ \"3 \"*(n-2)+\"*\")\n",
    "    "
   ]
  },
  {
   "cell_type": "code",
   "execution_count": 5,
   "id": "267e5610",
   "metadata": {},
   "outputs": [
    {
     "name": "stdout",
     "output_type": "stream",
     "text": [
      "(1, 1) (1, 2) (1, 3) (1, 4) (1, 5) (1, 6) (1, 7) (1, 8) \n",
      "(2, 1) (1, 1) (2, 3) (2, 4) (2, 5) (2, 6) (2, 7) (2, 8) \n",
      "(3, 1) (3, 2) (1, 1) (3, 4) (3, 5) (3, 6) (3, 7) (3, 8) \n",
      "(4, 1) (4, 2) (4, 3) (1, 1) (4, 5) (4, 6) (4, 7) (4, 8) \n",
      "(5, 1) (5, 2) (5, 3) (5, 4) (1, 1) (5, 6) (5, 7) (5, 8) \n",
      "(6, 1) (6, 2) (6, 3) (6, 4) (6, 5) (1, 1) (6, 7) (6, 8) \n",
      "(7, 1) (7, 2) (7, 3) (7, 4) (7, 5) (7, 6) (1, 1) (7, 8) \n",
      "(8, 1) (8, 2) (8, 3) (8, 4) (8, 5) (8, 6) (8, 7) (1, 1) \n"
     ]
    }
   ],
   "source": [
    "n = int(input(\"Enter the value:\"))\n",
    "\n",
    "for i in range(1, n+1):\n",
    "    for j in range(1,n+1):\n",
    "        if i == j:\n",
    "            print(\"(1, 1)\",end =\" \")\n",
    "        else:\n",
    "            print((i,j),end= \" \")\n",
    "    print()\n"
   ]
  },
  {
   "cell_type": "code",
   "execution_count": 47,
   "id": "63ad59ec",
   "metadata": {},
   "outputs": [
    {
     "name": "stdout",
     "output_type": "stream",
     "text": [
      "0\n",
      "1\n",
      "2\n",
      "3\n",
      "4\n",
      "5\n"
     ]
    }
   ],
   "source": [
    "# Transverse Statement\n",
    "\n",
    "num = 0\n",
    "\n",
    "while num <= 12:\n",
    "    if num < 6:\n",
    "        print(num)\n",
    "    else:\n",
    "        break\n",
    "    num += 1\n"
   ]
  },
  {
   "cell_type": "code",
   "execution_count": 61,
   "id": "f7a8fdb2",
   "metadata": {},
   "outputs": [
    {
     "name": "stdout",
     "output_type": "stream",
     "text": [
      "7\n",
      "8\n",
      "9\n",
      "10\n",
      "11\n",
      "12\n",
      "13\n"
     ]
    }
   ],
   "source": [
    "num = 1\n",
    "while num <= 12:\n",
    "    num += 1\n",
    "    if num > 6:\n",
    "        print(num)\n",
    "    else:\n",
    "        continue\n",
    "        "
   ]
  },
  {
   "cell_type": "code",
   "execution_count": 78,
   "id": "16c9bfa7",
   "metadata": {},
   "outputs": [
    {
     "name": "stdout",
     "output_type": "stream",
     "text": [
      "1\n",
      "2\n",
      "3\n",
      "4\n",
      "6\n",
      "7\n",
      "8\n",
      "9\n",
      "10\n"
     ]
    }
   ],
   "source": [
    "#Print numbers 1 to 10 but skip 5\n",
    "num = 1\n",
    "\n",
    "while num <= 10:\n",
    "    if num == 5:\n",
    "        num += 1\n",
    "        continue\n",
    "    print(num)\n",
    "    num += 1\n",
    "       "
   ]
  },
  {
   "cell_type": "code",
   "execution_count": null,
   "id": "ee60ecb8",
   "metadata": {},
   "outputs": [
    {
     "name": "stdout",
     "output_type": "stream",
     "text": [
      "You have enter greater than 50 it is  51\n"
     ]
    }
   ],
   "source": [
    "#Stop when number is greater than 50\n",
    "while True:\n",
    "    n = int(input(\"Enter the value :\"))\n",
    "    if n >= 50:\n",
    "        print(\"You have enter greater than 50 it is \",n)\n",
    "        break\n",
    "    else:\n",
    "        pass"
   ]
  },
  {
   "cell_type": "code",
   "execution_count": null,
   "id": "8b840efe",
   "metadata": {},
   "outputs": [
    {
     "name": "stdout",
     "output_type": "stream",
     "text": [
      "The total sum is: 0\n"
     ]
    }
   ],
   "source": [
    "\"\"\"Sum until negative number\n",
    "Use a while loop to keep taking integers as input.\n",
    "Add them to a total.\n",
    "If the user enters a negative number, break the loop and print the total sum.\"\"\"\n",
    "sum = 0\n",
    "\n",
    "while True:\n",
    "    num1 = int(input(\"Enter num1 value:\"))\n",
    "    if num1 < 0:\n",
    "        print(\"The total sum is:\",sum)\n",
    "        break\n",
    "    else:\n",
    "        sum = sum + num1\n"
   ]
  },
  {
   "cell_type": "code",
   "execution_count": 1,
   "id": "8c8d2897",
   "metadata": {},
   "outputs": [
    {
     "name": "stdout",
     "output_type": "stream",
     "text": [
      "5 X 1 = 5\n",
      "5 X 2 = 10\n",
      "5 X 3 = 15\n",
      "5 X 4 = 20\n",
      "5 X 5 = 25\n",
      "5 X 6 = 30\n",
      "5 X 7 = 35\n",
      "5 X 8 = 40\n",
      "5 X 9 = 45\n",
      "5 X 10 = 50\n"
     ]
    }
   ],
   "source": [
    "while True:\n",
    " n = int(input(\"Enter the value:\"))\n",
    " i = 1\n",
    " \n",
    " for i in range(1,11):\n",
    "        print(n, \"X\",i,\"=\",n*i)\n",
    " break"
   ]
  },
  {
   "cell_type": "markdown",
   "id": "7280949a",
   "metadata": {},
   "source": [
    "Class - 17-09-2025\n"
   ]
  },
  {
   "cell_type": "code",
   "execution_count": 6,
   "id": "79829900",
   "metadata": {},
   "outputs": [
    {
     "name": "stdout",
     "output_type": "stream",
     "text": [
      "\n",
      "* \n",
      "* * \n",
      "* * * \n",
      "* * * * \n",
      "* * * * * \n",
      "* * * * * * \n",
      "* * * * * * * \n",
      "* * * * * * * * \n",
      "* * * * * * * * * \n"
     ]
    }
   ],
   "source": [
    "for i in range(10):\n",
    "    print(\"* \" *i)"
   ]
  },
  {
   "cell_type": "code",
   "execution_count": 8,
   "id": "10449e57",
   "metadata": {},
   "outputs": [
    {
     "name": "stdout",
     "output_type": "stream",
     "text": [
      "\n",
      "* \n",
      "* * \n",
      "* * * \n",
      "* * * * \n"
     ]
    }
   ],
   "source": [
    "for i in range(5):\n",
    "    for j in range(i):\n",
    "        print(\"*\",end =\" \")\n",
    "    print()"
   ]
  },
  {
   "cell_type": "code",
   "execution_count": 10,
   "id": "b30b33a7",
   "metadata": {},
   "outputs": [
    {
     "name": "stdout",
     "output_type": "stream",
     "text": [
      "* * * * * \n",
      "* * * * \n",
      "* * * \n",
      "* * \n",
      "* \n"
     ]
    }
   ],
   "source": [
    "n = 5\n",
    "for i in range(n,0,-1):\n",
    "    print(\"* \"*i)"
   ]
  },
  {
   "cell_type": "code",
   "execution_count": null,
   "id": "a1b8eae9",
   "metadata": {},
   "outputs": [],
   "source": [
    "n = 5\n",
    "\n",
    "for i in range(n):"
   ]
  },
  {
   "cell_type": "code",
   "execution_count": null,
   "id": "c553ec9b",
   "metadata": {},
   "outputs": [
    {
     "name": "stdout",
     "output_type": "stream",
     "text": [
      "Incorrect PIN\n",
      "Access granted\n"
     ]
    }
   ],
   "source": [
    "correct_pin = \"1234\"\n",
    "attempt = 0\n",
    "\n",
    "while attempt < 3:\n",
    "    pin = input(\"Enter your pin: \")\n",
    "    if pin == correct_pin:\n",
    "        print(\"Access granted\")\n",
    "        break\n",
    "    else:\n",
    "        print(\"Incorrect PIN\")\n",
    "        attempt += 1\n",
    "else:\n",
    "    print(\"Card blocked\")\n"
   ]
  },
  {
   "cell_type": "code",
   "execution_count": 22,
   "id": "b77d3b25",
   "metadata": {},
   "outputs": [
    {
     "name": "stdout",
     "output_type": "stream",
     "text": [
      "January has 31 days.\n",
      "February has 28/29 days.\n",
      "May has 31 days.\n",
      "June has 30 days\n",
      "August has 31 days.\n",
      "November has 30 days\n",
      "December has 31 days.\n"
     ]
    }
   ],
   "source": [
    "month = [\"January\",\"February\",\"May\",\"June\",\"August\",\"November\",\"December\"]\n",
    "\n",
    "for i in month:\n",
    "    if i == \"February\":\n",
    "        print(f\"{i} has 28/29 days.\")\n",
    "    elif i in (\"January\",\"May\",\"August\",\"December\"):\n",
    "        print(f\"{i} has 31 days.\")\n",
    "    else:\n",
    "        print(f\"{i} has 30 days\")\n"
   ]
  },
  {
   "cell_type": "code",
   "execution_count": null,
   "id": "a565b3f1",
   "metadata": {},
   "outputs": [
    {
     "name": "stdout",
     "output_type": "stream",
     "text": [
      "Welcome to Chaithanya's kitchen\n",
      "VEG AND NON VEG\n",
      "We prepare veg items in different kitchen,\n",
      " we won't mix the vessels or anything with non veg:)\n",
      "1.Nonveg_special\n",
      "2.Veg_Special\n",
      "3.Juice\n",
      "4.Ice creams\n",
      "\n",
      "Thje Selected item is:  1\n",
      "\n",
      "chicken butter: ₹200\n",
      "Chicken Kabab: ₹80\n",
      "Chicken Biryani: ₹180\n",
      "Mutton Curry: ₹250\n",
      "Fish Fry: ₹200\n",
      "Prawn Masala: ₹300\n",
      "Egg Omelette: ₹40\n",
      "Chicken 65: ₹220\n",
      "Grilled Fish: ₹280\n",
      "Lamb Kebab: ₹260\n",
      "Butter Chicken: ₹240\n",
      "Crab Roast: ₹350\n"
     ]
    }
   ],
   "source": [
    "print(\"Welcome to Chaithanya's kitchen\")\n",
    "print(\"VEG AND NON VEG\")\n",
    "print(\"We prepare veg items in different kitchen,\\n we won't mix the vessels or anything with non veg:)\")\n",
    "print(\"1.Nonveg_special\")\n",
    "print(\"2.Veg_Special\")\n",
    "print(\"3.Juice\")\n",
    "print(\"4.Ice creams\")\n",
    "print()\n",
    "selection = int(input(\"Choose which item you want(1/2/3/4):\"))\n",
    "print(\"The Selected item is: \",selection )\n",
    "print()\n",
    "\n",
    "non_veg_item = {\n",
    "    \"chicken butter\":200,\n",
    "    \"Chicken Kabab\" : 80,\n",
    "    \"Chicken Biryani\": 180,\n",
    "    \"Mutton Curry\": 250,\n",
    "    \"Fish Fry\": 200,\n",
    "    \"Prawn Masala\": 300,\n",
    "    \"Egg Omelette\": 40,\n",
    "    \"Chicken 65\": 220,\n",
    "    \"Grilled Fish\": 280,\n",
    "    \"Lamb Kebab\": 260,\n",
    "    \"Butter Chicken\": 240,\n",
    "    \"Crab Roast\": 350\n",
    "    }\n",
    "\n",
    "if selection == non_veg_item:\n",
    "    print(\"non_veg_item\")\n",
    "\n",
    "\n",
    "for item_name, price in non_veg_item.items():\n",
    "    print(f\"{item_name}: ₹{price}\")\n"
   ]
  },
  {
   "cell_type": "markdown",
   "id": "f991455d",
   "metadata": {},
   "source": [
    "Assignment"
   ]
  },
  {
   "cell_type": "code",
   "execution_count": 40,
   "id": "4a910a49",
   "metadata": {},
   "outputs": [
    {
     "name": "stdout",
     "output_type": "stream",
     "text": [
      "[[1], [1, 1], [1, 2, 1], [1, 3, 3, 1], [1, 4, 6, 4, 1]]\n",
      "    1 \n",
      "   1 1 \n",
      "  1 2 1 \n",
      " 1 3 3 1 \n",
      "1 4 6 4 1 \n"
     ]
    }
   ],
   "source": [
    "\"\"\"\n",
    "    1\n",
    "   1 1\n",
    "  1 2 1\n",
    " 1 3 3 1\n",
    "1 4 6 4 1\n",
    "\"\"\"\n",
    "\n",
    "n = int(input(\"Enter the row number: \"))\n",
    "list1= []\n",
    "for i in range(n):\n",
    "    temp_list =[]\n",
    "    for j in range(i+1):\n",
    "        if j==0 or j==i:\n",
    "            temp_list.append(1)\n",
    "        else:\n",
    "            temp_list.append(list1[i-1][j-1] + list1[i-1][j])\n",
    "    list1.append(temp_list)\n",
    "print(list1)\n",
    "\n",
    "for i in range(n):\n",
    "    for j in range(n-i-1):\n",
    "        print(\" \",end = \"\")\n",
    "    for j in range(i+1):\n",
    "        print(list1[i][j],end = \" \")\n",
    "    print()\n",
    "\n",
    "\n"
   ]
  },
  {
   "cell_type": "code",
   "execution_count": 38,
   "id": "2c19e921",
   "metadata": {},
   "outputs": [
    {
     "name": "stdout",
     "output_type": "stream",
     "text": [
      "         1 \n",
      "        1 1 \n",
      "       1 2 1 \n",
      "      1 3 3 1 \n",
      "     1 4 6 4 1 \n",
      "    1 5 10 10 5 1 \n",
      "   1 6 15 20 15 6 1 \n",
      "  1 7 21 35 35 21 7 1 \n",
      " 1 8 28 56 70 56 28 8 1 \n"
     ]
    }
   ],
   "source": [
    "n = int(input(\"Enter the value:\"))\n",
    "for i in range(n):\n",
    "    print(\" \"*(n-i),end= \"\")\n",
    "    num = 1\n",
    "    for j in range(i+1):\n",
    "        print(num, end = \" \")\n",
    "        num = num*(i-j)//(j+1)\n",
    "    print()\n",
    "    \n"
   ]
  },
  {
   "cell_type": "code",
   "execution_count": null,
   "id": "0df9b347",
   "metadata": {},
   "outputs": [
    {
     "name": "stdout",
     "output_type": "stream",
     "text": [
      "*              *\n",
      "**            **\n",
      "***          ***\n",
      "****        ****\n",
      "*****      *****\n",
      "******    ******\n",
      "*******  *******\n",
      "****************\n",
      "****************\n",
      "*******  *******\n",
      "******    ******\n",
      "*****      *****\n",
      "****        ****\n",
      "***          ***\n",
      "**            **\n",
      "*              *\n"
     ]
    }
   ],
   "source": [
    "#Butterfly\n",
    "n = int(input(\"Enter the value:\"))\n",
    "for i in range(1,n+1):\n",
    "    print(\"*\"*i,end ='')\n",
    "    print(\" \"*(n-i)*2,end='')\n",
    "    print(\"*\"*i)\n",
    "for i in range(n,0,-1):\n",
    "    print(\"*\"*i,end='')\n",
    "    print(\" \"*(n-i)*2,end ='')\n",
    "    print(\"*\"*i)\n"
   ]
  },
  {
   "cell_type": "code",
   "execution_count": null,
   "id": "80cb6f86",
   "metadata": {},
   "outputs": [
    {
     "name": "stdout",
     "output_type": "stream",
     "text": [
      "Factorial of 5 is 120\n"
     ]
    }
   ],
   "source": [
    "n = int(input(\"Enter the value:\"))\n",
    "\n",
    "fact = 1\n",
    "for i in range(1,n+1):\n",
    "    fact *= i\n",
    "print(\"Factorial of\",n,\"is\",fact)"
   ]
  },
  {
   "cell_type": "markdown",
   "id": "f8acc5a8",
   "metadata": {},
   "source": [
    "String Slicing-18/09/2025"
   ]
  },
  {
   "cell_type": "code",
   "execution_count": 42,
   "id": "9634acdd",
   "metadata": {},
   "outputs": [
    {
     "name": "stdout",
     "output_type": "stream",
     "text": [
      "Python\n",
      "mmin\n",
      "gnimmmargorPnohtyP\n",
      "ming\n",
      "Python\n",
      "Programmming\n",
      "PythonProgrammming\n",
      "PtoPor\n",
      "gnimmmargorPnohtyP\n",
      "gimagrnhy\n"
     ]
    }
   ],
   "source": [
    "#Basic Slicing\n",
    "s = \"PythonProgrammming\"\n",
    "\n",
    "#Positive Indexing\n",
    "print(s[0:6])\n",
    "#Negatove Indexing\n",
    "print(s[-5:-1])\n",
    "#Reverse a string\n",
    "print(s[::-1])\n",
    "#last 3 number\n",
    "print(s[14:])\n",
    "print(s[:6])\n",
    "print(s[6:])\n",
    "print(s[:])\n",
    "print(s[0:12:2])\n",
    "print(s[::-1])\n",
    "print(s[::-2])\n"
   ]
  },
  {
   "cell_type": "code",
   "execution_count": 35,
   "id": "db8f50a8",
   "metadata": {},
   "outputs": [
    {
     "name": "stdout",
     "output_type": "stream",
     "text": [
      "Chaithanya\n",
      "Poojary\n",
      "yrajooP_S_aynahtiahC\n",
      "yrajooP_S_aynahtiahC\n"
     ]
    }
   ],
   "source": [
    "name = \"Chaithanya_S_Poojary\"\n",
    "\n",
    "#Positive Indexing\n",
    "print(name[0:10])\n",
    "#Negative Indexing\n",
    "print(name[-7:])\n",
    "#Reverse String\n",
    "print(name[::-1])\n",
    "print(name[-1::-1])"
   ]
  },
  {
   "cell_type": "code",
   "execution_count": null,
   "id": "16a112c0",
   "metadata": {},
   "outputs": [],
   "source": [
    "#Extracting Specific parts\n",
    "date = "
   ]
  },
  {
   "cell_type": "code",
   "execution_count": 43,
   "id": "ac26b123",
   "metadata": {},
   "outputs": [
    {
     "name": "stdout",
     "output_type": "stream",
     "text": [
      "STRING\n",
      "string\n",
      "0\n",
      "6\n"
     ]
    }
   ],
   "source": [
    "s = \"String\"\n",
    "print(s.upper())\n",
    "print(s.lower())\n",
    "print(s.count(\"s\"))\n",
    "print(len(s))"
   ]
  },
  {
   "cell_type": "code",
   "execution_count": 10,
   "id": "82c8251e",
   "metadata": {},
   "outputs": [
    {
     "name": "stdout",
     "output_type": "stream",
     "text": [
      "lloWorl\n",
      "lroWoll\n",
      "lroWoll\n",
      "lool\n",
      "lool\n"
     ]
    }
   ],
   "source": [
    "#Task\n",
    "s = \"HelloWorld\"\n",
    "#Start to End\n",
    "print(s[2:9])\n",
    "#End to Start\n",
    "print(s[-2:-9:-1])\n",
    "print(s[8:1:-1])\n",
    "print(s[2:9:2])\n",
    "print(s[-2:-9:-2])"
   ]
  },
  {
   "cell_type": "markdown",
   "id": "10b84bf3",
   "metadata": {},
   "source": [
    "Datatype COllection"
   ]
  },
  {
   "cell_type": "code",
   "execution_count": null,
   "id": "73156ac3",
   "metadata": {},
   "outputs": [
    {
     "name": "stdout",
     "output_type": "stream",
     "text": [
      "<class 'list'>\n"
     ]
    }
   ],
   "source": [
    "#Without inbuilt\n",
    "List = []\n",
    "print(type(List))"
   ]
  },
  {
   "cell_type": "code",
   "execution_count": 13,
   "id": "22a1d687",
   "metadata": {},
   "outputs": [
    {
     "name": "stdout",
     "output_type": "stream",
     "text": [
      "<class 'list'>\n"
     ]
    }
   ],
   "source": [
    "#With inbuilt\n",
    "list = list()\n",
    "print(type(list))"
   ]
  },
  {
   "cell_type": "code",
   "execution_count": 14,
   "id": "e16530ac",
   "metadata": {},
   "outputs": [
    {
     "name": "stdout",
     "output_type": "stream",
     "text": [
      "None\n",
      "[]\n"
     ]
    }
   ],
   "source": [
    "list = [1,2,3]\n",
    "print(list.clear())\n",
    "print(list) "
   ]
  },
  {
   "cell_type": "code",
   "execution_count": 19,
   "id": "7fa0e7d0",
   "metadata": {},
   "outputs": [
    {
     "name": "stdout",
     "output_type": "stream",
     "text": [
      "True\n"
     ]
    }
   ],
   "source": [
    "#Accessing a list using indexing\n",
    "list1 = [1,\"hello\",4.5,True]\n",
    "print(list1[3])"
   ]
  },
  {
   "cell_type": "code",
   "execution_count": 25,
   "id": "7731eddd",
   "metadata": {},
   "outputs": [
    {
     "name": "stdout",
     "output_type": "stream",
     "text": [
      "hi\n",
      "['Python', 'hello', [1, 2, 'hi'], 4.5, True, ['Good', 23, False]]\n",
      "['Python', 'hello', [1, 2, 'hi'], 4.5, True, ['Good', 22, False]]\n",
      "l\n",
      "o\n"
     ]
    }
   ],
   "source": [
    "List1 = [1,\"hello\",[1,2,\"hi\"],4.5,True,[\"Good\",23,False]]\n",
    "print(List1[2][2])\n",
    "List1[0] = \"Python\"\n",
    "print(List1)\n",
    "List1[5][1] = 22\n",
    "print(List1)\n",
    "print(List1[1][2])\n",
    "print(List1[5][0][1])"
   ]
  },
  {
   "cell_type": "code",
   "execution_count": 24,
   "id": "c26daf02",
   "metadata": {},
   "outputs": [
    {
     "name": "stdout",
     "output_type": "stream",
     "text": [
      "[1, 'bad', 2, 3, 'good', 'python']\n"
     ]
    }
   ],
   "source": [
    "#inseer(index_value, value)\n",
    "lst = [1,2,3,\"good\",\"python\"]\n",
    "lst.insert(1,\"bad\")\n",
    "print(lst)"
   ]
  },
  {
   "cell_type": "code",
   "execution_count": 26,
   "id": "bff58af6",
   "metadata": {},
   "outputs": [
    {
     "name": "stdout",
     "output_type": "stream",
     "text": [
      "Original: [1, 2, 3]\n",
      "copy: [100, 2, 3]\n"
     ]
    }
   ],
   "source": [
    "original =[1,2,3]\n",
    "copy_list = original.copy()\n",
    "\n",
    "copy_list[0] = 100\n",
    "\n",
    "print(\"Original:\",original)\n",
    "print(\"copy:\",copy_list)"
   ]
  },
  {
   "cell_type": "code",
   "execution_count": 30,
   "id": "155bb2e8",
   "metadata": {},
   "outputs": [
    {
     "name": "stdout",
     "output_type": "stream",
     "text": [
      "False\n",
      "True\n"
     ]
    }
   ],
   "source": [
    "list1 = [1,2,3]\n",
    "list2 = [1,2,3]\n",
    "print(list1 is list2)\n",
    "print(list1 == list2)"
   ]
  },
  {
   "cell_type": "markdown",
   "id": "d94bc6e4",
   "metadata": {},
   "source": [
    "Assignment"
   ]
  },
  {
   "cell_type": "code",
   "execution_count": null,
   "id": "b756393e",
   "metadata": {},
   "outputs": [
    {
     "name": "stdout",
     "output_type": "stream",
     "text": [
      "Minimum is: 3\n",
      "Maximum is: 99\n"
     ]
    }
   ],
   "source": [
    "number = [3,8,50,9,15,30,38,79]\n",
    "\n",
    "min_num = number[0]\n",
    "max_num = number[0]\n",
    "\n",
    "for num in number[1:]:\n",
    "    if num > max_num:\n",
    "        max_num = num\n",
    "    if num < min_num:\n",
    "        min_num = num\n",
    "\n",
    "print(\"Minimum is:\",min_num)\n",
    "print(\"Maximum is:\",max_num)    "
   ]
  },
  {
   "cell_type": "code",
   "execution_count": 31,
   "id": "6ed25840",
   "metadata": {},
   "outputs": [
    {
     "name": "stdout",
     "output_type": "stream",
     "text": [
      "Maximum number 50\n",
      "Minimum number 10\n"
     ]
    }
   ],
   "source": [
    "number = [10,20,30,40,50]\n",
    "\n",
    "min = number[0]\n",
    "max = number[0]\n",
    "\n",
    "for num in range(len(number)):\n",
    "    if number[num] > max:\n",
    "        max = number[num]\n",
    "    elif number[num] < min:\n",
    "        min = number[num]\n",
    "\n",
    "print(\"Maximum number\",max)\n",
    "print(\"Minimum number\",min)"
   ]
  },
  {
   "cell_type": "code",
   "execution_count": null,
   "id": "3a0b45c1",
   "metadata": {},
   "outputs": [
    {
     "name": "stdout",
     "output_type": "stream",
     "text": [
      "Data science\n",
      "Data Science\n",
      "DATA SCIENCE\n",
      "chaithanya poojary\n",
      "data science\n",
      "DATA SCIENCE\n",
      "chaithanya poojary\n"
     ]
    }
   ],
   "source": [
    "s = \"data science\"\n",
    "c = \"CHAITHANYA POOJARY\"\n",
    "print(s.capitalize())\n",
    "print(s.title())\n",
    "print(s.upper())\n",
    "print(c.lower())\n",
    "print(s.casefold())\n",
    "print(s.swapcase())\n",
    "print(c.swapcase())\n"
   ]
  },
  {
   "cell_type": "code",
   "execution_count": null,
   "id": "4d141a98",
   "metadata": {},
   "outputs": [
    {
     "name": "stdout",
     "output_type": "stream",
     "text": [
      "    Hi    \n",
      "****Hi****\n",
      "Hi        \n",
      "Hi--------\n",
      "        Hi\n",
      "........Hi\n",
      "00042\n",
      "-0042\n"
     ]
    }
   ],
   "source": [
    "text = \"Hi\"\n",
    "\n",
    "#center(width, [fillchar])\n",
    "print(text.center(10))  #spaces #Used to fill the empty spaces\n",
    "print(text.center(10,'*')) #asterisks\n",
    "#ljust(width, [fillchar])\n",
    "print(text.ljust(10)) #Spaces #Left to Right\n",
    "print(text.ljust(10,\"-\")) #dashes #Left to Right\n",
    "#rjust(width, [fillchar])\n",
    "print(text.rjust(10))  #  (spaces) Right to left\n",
    "print(text.rjust(10, '.')) #dots Right to left\n",
    "#zfill(width)\n",
    "num = \"42\"\n",
    "print(num.zfill(5))             \n",
    "\n",
    "num2 = \"-42\"\n",
    "print(num2.zfill(5))  "
   ]
  },
  {
   "cell_type": "code",
   "execution_count": 1,
   "id": "753062af",
   "metadata": {},
   "outputs": [
    {
     "name": "stdout",
     "output_type": "stream",
     "text": [
      "2\n",
      "4\n",
      "-1\n",
      "4\n",
      "2\n",
      "2\n"
     ]
    },
    {
     "ename": "ValueError",
     "evalue": "substring not found",
     "output_type": "error",
     "traceback": [
      "\u001b[31m---------------------------------------------------------------------------\u001b[39m",
      "\u001b[31mValueError\u001b[39m                                Traceback (most recent call last)",
      "\u001b[36mCell\u001b[39m\u001b[36m \u001b[39m\u001b[32mIn[1]\u001b[39m\u001b[32m, line 16\u001b[39m\n\u001b[32m     14\u001b[39m text = \u001b[33m\"\u001b[39m\u001b[33mbanana\u001b[39m\u001b[33m\"\u001b[39m\n\u001b[32m     15\u001b[39m \u001b[38;5;28mprint\u001b[39m(text.index(\u001b[33m\"\u001b[39m\u001b[33mna\u001b[39m\u001b[33m\"\u001b[39m))       \u001b[38;5;66;03m# 2\u001b[39;00m\n\u001b[32m---> \u001b[39m\u001b[32m16\u001b[39m \u001b[38;5;28mprint\u001b[39m(\u001b[43mtext\u001b[49m\u001b[43m.\u001b[49m\u001b[43mindex\u001b[49m\u001b[43m(\u001b[49m\u001b[33;43m\"\u001b[39;49m\u001b[33;43mxy\u001b[39;49m\u001b[33;43m\"\u001b[39;49m\u001b[43m)\u001b[49m)     \u001b[38;5;66;03m# ValueError: substring not found\u001b[39;00m\n\u001b[32m     17\u001b[39m \u001b[38;5;66;03m#rindex(sub[, start[, end]])\u001b[39;00m\n\u001b[32m     18\u001b[39m \u001b[38;5;66;03m#Same as rfind, but raises ValueError if sub is not found.\u001b[39;00m\n\u001b[32m     19\u001b[39m text = \u001b[33m\"\u001b[39m\u001b[33mbanana\u001b[39m\u001b[33m\"\u001b[39m\n",
      "\u001b[31mValueError\u001b[39m: substring not found"
     ]
    }
   ],
   "source": [
    "#find(sub[, start[, end]])\n",
    "#Returns the first index of sub inside the string, or -1 if not found.\n",
    "text = \"banana\"\n",
    "print(text.find(\"na\"))        # 2   (first \"na\")\n",
    "print(text.find(\"na\", 3))     # 4   (search starting at index 3)\n",
    "print(text.find(\"xy\"))        # -1  (not found)\n",
    "#rfind(sub[, start[, end]])\n",
    "#Returns the last index of sub, or -1 if not found.\n",
    "text = \"banana\"\n",
    "print(text.rfind(\"na\"))       # 4   (last \"na\")\n",
    "print(text.rfind(\"na\", 0, 4)) # 2   (limit search to first 4 chars)\n",
    "#index(sub[, start[, end]])\n",
    "#Same as find, but raises ValueError if sub is not found.\n",
    "text = \"banana\"\n",
    "print(text.index(\"na\"))       # 2\n",
    "print(text.index(\"xy\"))     # ValueError: substring not found\n",
    "#rindex(sub[, start[, end]])\n",
    "#Same as rfind, but raises ValueError if sub is not found.\n",
    "text = \"banana\"\n",
    "print(text.rindex(\"na\"))      # 4\n",
    "#count(sub[, start[, end]])\n",
    "#Returns the number of occurrences of sub.\n",
    "text = \"banana\"\n",
    "print(text.count(\"na\"))       # 2\n",
    "print(text.count(\"a\", 2, 5))  # 2 (only between index 2 and 4)\n",
    "#startswith(prefix[, start[, end]])\n",
    "#Checks if the string starts with the given prefix.\n",
    "text = \"banana\"\n",
    "print(text.startswith(\"ba\"))        # True\n",
    "print(text.startswith(\"na\", 2))     # True (starting from index 2)\n",
    "print(text.startswith((\"ba\", \"ca\")))# True (tuple of prefixes)\n",
    "#endswith(suffix[, start[, end]])\n",
    "#Checks if the string ends with the given suffix.\n",
    "text = \"banana\"\n",
    "print(text.endswith(\"na\"))          # True\n",
    "print(text.endswith(\"na\", 0, 4))    # False (checking only 'bana')\n",
    "print(text.endswith((\"na\", \"ca\")))  # True (tuple of suffixes)\n",
    "\n"
   ]
  },
  {
   "cell_type": "code",
   "execution_count": 4,
   "id": "47cfe0f2",
   "metadata": {},
   "outputs": [
    {
     "name": "stdout",
     "output_type": "stream",
     "text": [
      "True\n",
      "False\n",
      "\n",
      "True\n",
      "False\n",
      "\n",
      "True\n",
      "False\n",
      "\n",
      "True\n",
      "False\n",
      "\n",
      "True\n",
      "True\n",
      "\n",
      "True\n",
      "True\n",
      "\n"
     ]
    }
   ],
   "source": [
    "#Type & Character Tests (all return True/False)\n",
    "#isalnum()\n",
    "#True if all characters are letters or digits and there is at least one character.\n",
    "print(\"abc123\".isalnum())   # True\n",
    "print(\"abc 123\".isalnum())  # False (space not allowed)\n",
    "print()\n",
    "#isalpha()\n",
    "#True if all characters are letters only.\n",
    "print(\"Hello\".isalpha())    # True\n",
    "print(\"Hi5\".isalpha())      # False (contains digit)\n",
    "print()\n",
    "#isascii()\n",
    "#True if all characters are ASCII (code points 0–127).\n",
    "print(\"Hello!\".isascii())   # True\n",
    "print(\"café\".isascii())     # False (é is non-ASCII)\n",
    "print()\n",
    "#isdecimal()\n",
    "#True if all characters are decimal digits (0–9 only).\n",
    "print(\"123\".isdecimal())    # True\n",
    "print(\"②\".isdecimal())      # False (circled digit is numeric but not decimal)\n",
    "print()\n",
    "#isdigit()\n",
    "#True if all characters are digits (includes superscripts, etc.).\n",
    "print(\"123\".isdigit())      # True\n",
    "print(\"②\".isdigit())        # True (because it's a digit character)\n",
    "print()\n",
    "#isnumeric()\n",
    "#True if all characters are numeric (includes digits, fractions, etc.).\n",
    "print(\"⅓\".isnumeric())      # True (one-third fraction character)\n",
    "print(\"123\".isnumeric())    # True\n",
    "print()\n"
   ]
  },
  {
   "cell_type": "code",
   "execution_count": 3,
   "id": "8351fce0",
   "metadata": {},
   "outputs": [
    {
     "name": "stdout",
     "output_type": "stream",
     "text": [
      "True\n",
      "False\n",
      "False\n",
      "\n",
      "True\n",
      "False\n",
      "\n",
      "True\n",
      "False\n",
      "\n",
      "True\n",
      "False\n",
      "\n",
      "True\n",
      "True\n",
      "False\n",
      "\n",
      "True\n",
      "False\n"
     ]
    }
   ],
   "source": [
    "#isidentifier()\n",
    "#True if the string is a valid Python identifier (variable/function name).\n",
    "print(\"variable1\".isidentifier())  # True\n",
    "print(\"1var\".isidentifier())       # False (cannot start with digit)\n",
    "print(\"my-var\".isidentifier())     # False (hyphen not allowed)\n",
    "print()\n",
    "#islower()\n",
    "#True if all cased letters are lowercase and there is at least one cased letter.\n",
    "print(\"hello\".islower())    # True\n",
    "print(\"Hello\".islower())    # False\n",
    "print()\n",
    "#isupper()\n",
    "#True if all cased letters are uppercase and there is at least one cased letter.\n",
    "print(\"HELLO\".isupper())    # True\n",
    "print(\"Hello\".isupper())    # False\n",
    "print()\n",
    "#istitle()\n",
    "#True if string is titlecased (each word starts uppercase, rest lowercase).\n",
    "print(\"Hello World\".istitle())  # True\n",
    "print(\"Hello world\".istitle())  # False\n",
    "print()\n",
    "#isspace()\n",
    "#True if all characters are whitespace (spaces, tabs, newlines).\n",
    "print(\"   \".isspace())     # True\n",
    "print(\"\\t\\n\".isspace())    # True\n",
    "print(\"a b\".isspace())     # False\n",
    "print()\n",
    "#isprintable()\n",
    "#True if all characters are printable (not control chars).\n",
    "print(\"Hello!\".isprintable())   # True\n",
    "print(\"Hi\\nThere\".isprintable())# False (newline not printable)\n",
    "\n",
    "\n"
   ]
  },
  {
   "cell_type": "code",
   "execution_count": null,
   "id": "458b761f",
   "metadata": {},
   "outputs": [],
   "source": [
    "#Strip / Trim\n",
    "#strip([chars]) – Remove leading & trailing chars (default whitespace)\n",
    "#lstrip([chars])\n",
    "#rstrip([chars])"
   ]
  },
  {
   "cell_type": "code",
   "execution_count": null,
   "id": "be5fe034",
   "metadata": {},
   "outputs": [],
   "source": [
    "#Replace / Mapping\n",
    "#replace(old, new[, count])\n",
    "#expandtabs(tabsize=8) – Replace tabs with spaces\n",
    "#translate(table) – Use a translation table\n",
    "#maketrans(x[, y[, z]]) – Create translation mapping for translate"
   ]
  },
  {
   "cell_type": "code",
   "execution_count": null,
   "id": "632ab0d3",
   "metadata": {},
   "outputs": [],
   "source": [
    "#Split & Join\n",
    "#split(sep=None, maxsplit=-1)\n",
    "#rsplit(sep=None, maxsplit=-1)\n",
    "#splitlines([keepends])\n",
    "#partition(sep) – Returns (before, sep, after)\n",
    "#rpartition(sep)\n",
    "#join(iterable) – Join iterable of strings with this string as separator"
   ]
  },
  {
   "cell_type": "code",
   "execution_count": null,
   "id": "af88f21d",
   "metadata": {},
   "outputs": [],
   "source": [
    "#Formatting\n",
    "#format(*args, **kwargs)\n",
    "#format_map(mapping)"
   ]
  },
  {
   "cell_type": "markdown",
   "id": "52fc4e1a",
   "metadata": {},
   "source": [
    "19/09/2025"
   ]
  },
  {
   "cell_type": "code",
   "execution_count": 3,
   "id": "d8a06a83",
   "metadata": {},
   "outputs": [
    {
     "name": "stdout",
     "output_type": "stream",
     "text": [
      "[3, 1, 6, 8, 5]\n",
      "[3, 1, 6, 5]\n",
      "8\n"
     ]
    }
   ],
   "source": [
    "lst = [3,4,1,6,8,5]\n",
    "#REMOVE Directly we can remove value\n",
    "lst.remove(4)\n",
    "print(lst)\n",
    "#POP =Remove using the index\n",
    "x=lst.pop(3)\n",
    "print(lst)\n",
    "print(x)\n"
   ]
  },
  {
   "cell_type": "code",
   "execution_count": 5,
   "id": "232ec4df",
   "metadata": {},
   "outputs": [
    {
     "name": "stderr",
     "output_type": "stream",
     "text": [
      "<>:4: SyntaxWarning: str indices must be integers or slices, not tuple; perhaps you missed a comma?\n",
      "C:\\Users\\ASUS\\AppData\\Local\\Temp\\ipykernel_2700\\3754336857.py:4: SyntaxWarning: str indices must be integers or slices, not tuple; perhaps you missed a comma?\n",
      "  Appi = [\"Devaki\"[\"Santhappa\",\"Chethan\",\"Chaithanya\"],\"Ramesha\"[\"Mohini\",\"Pratham\",\"Manish\",\"Pranish\"],\"Hema\"[\"Suresh\",\"Preethesh\",\"Shreyash\"]]\n"
     ]
    },
    {
     "name": "stdout",
     "output_type": "stream",
     "text": [
      "0\n"
     ]
    },
    {
     "ename": "TypeError",
     "evalue": "string indices must be integers, not 'tuple'",
     "output_type": "error",
     "traceback": [
      "\u001b[31m---------------------------------------------------------------------------\u001b[39m",
      "\u001b[31mTypeError\u001b[39m                                 Traceback (most recent call last)",
      "\u001b[36mCell\u001b[39m\u001b[36m \u001b[39m\u001b[32mIn[5]\u001b[39m\u001b[32m, line 4\u001b[39m\n\u001b[32m      2\u001b[39m lst = [\u001b[32m10\u001b[39m,\u001b[32m20\u001b[39m,\u001b[32m30\u001b[39m,\u001b[32m40\u001b[39m]\n\u001b[32m      3\u001b[39m \u001b[38;5;28mprint\u001b[39m(lst.index(\u001b[32m10\u001b[39m))\n\u001b[32m----> \u001b[39m\u001b[32m4\u001b[39m Appi = [\u001b[33;43m\"\u001b[39;49m\u001b[33;43mDevaki\u001b[39;49m\u001b[33;43m\"\u001b[39;49m\u001b[43m[\u001b[49m\u001b[33;43m\"\u001b[39;49m\u001b[33;43mSanthappa\u001b[39;49m\u001b[33;43m\"\u001b[39;49m\u001b[43m,\u001b[49m\u001b[33;43m\"\u001b[39;49m\u001b[33;43mChethan\u001b[39;49m\u001b[33;43m\"\u001b[39;49m\u001b[43m,\u001b[49m\u001b[33;43m\"\u001b[39;49m\u001b[33;43mChaithanya\u001b[39;49m\u001b[33;43m\"\u001b[39;49m\u001b[43m]\u001b[49m,\u001b[33m\"\u001b[39m\u001b[33mRamesha\u001b[39m\u001b[33m\"\u001b[39m[\u001b[33m\"\u001b[39m\u001b[33mMohini\u001b[39m\u001b[33m\"\u001b[39m,\u001b[33m\"\u001b[39m\u001b[33mPratham\u001b[39m\u001b[33m\"\u001b[39m,\u001b[33m\"\u001b[39m\u001b[33mManish\u001b[39m\u001b[33m\"\u001b[39m,\u001b[33m\"\u001b[39m\u001b[33mPranish\u001b[39m\u001b[33m\"\u001b[39m],\u001b[33m\"\u001b[39m\u001b[33mHema\u001b[39m\u001b[33m\"\u001b[39m[\u001b[33m\"\u001b[39m\u001b[33mSuresh\u001b[39m\u001b[33m\"\u001b[39m,\u001b[33m\"\u001b[39m\u001b[33mPreethesh\u001b[39m\u001b[33m\"\u001b[39m,\u001b[33m\"\u001b[39m\u001b[33mShreyash\u001b[39m\u001b[33m\"\u001b[39m]]\n\u001b[32m      5\u001b[39m \u001b[38;5;28mprint\u001b[39m(Appi.index(\u001b[33m\"\u001b[39m\u001b[33mChaithanya\u001b[39m\u001b[33m\"\u001b[39m))\n",
      "\u001b[31mTypeError\u001b[39m: string indices must be integers, not 'tuple'"
     ]
    }
   ],
   "source": [
    "#index(value)\n",
    "lst = [10,20,30,40]\n",
    "print(lst.index(10))\n",
    "Appi = [\"Devaki\"[\"Santhappa\",\"Chethan\",\"Chaithanya\"],\"Ramesha\"[\"Mohini\",\"Pratham\",\"Manish\",\"Pranish\"],\"Hema\"[\"Suresh\",\"Preethesh\",\"Shreyash\"]]\n",
    "print(Appi.index(\"Chaithanya\"))"
   ]
  },
  {
   "cell_type": "code",
   "execution_count": 7,
   "id": "94526301",
   "metadata": {},
   "outputs": [
    {
     "name": "stdout",
     "output_type": "stream",
     "text": [
      "2\n",
      "3\n"
     ]
    }
   ],
   "source": [
    "#count(x) --> x = value\n",
    "\n",
    "lst = [1,2,2,3,2,4,1]\n",
    "print(lst.count(1))\n",
    "print(lst.count(2))"
   ]
  },
  {
   "cell_type": "code",
   "execution_count": 12,
   "id": "58182fcd",
   "metadata": {},
   "outputs": [
    {
     "name": "stdout",
     "output_type": "stream",
     "text": [
      "Ascending order\n",
      "[1, 2, 3, 4, 5]\n",
      "Descending Order\n",
      "[5, 4, 3, 2, 1]\n"
     ]
    }
   ],
   "source": [
    "#sort\n",
    "print(\"Ascending order\")\n",
    "lst = [3,1,4,5,2]\n",
    "lst.sort();\n",
    "print(lst)\n",
    "print(\"Descending Order\")\n",
    "lst.sort(reverse=True)\n",
    "print(lst)\n"
   ]
  },
  {
   "cell_type": "code",
   "execution_count": 14,
   "id": "c4d94e5d",
   "metadata": {},
   "outputs": [
    {
     "name": "stdout",
     "output_type": "stream",
     "text": [
      "87\n",
      "3\n"
     ]
    }
   ],
   "source": [
    "lst = [3,9,8,34,44,87,67]\n",
    "print(max(lst))\n",
    "print(min(lst))"
   ]
  },
  {
   "cell_type": "code",
   "execution_count": null,
   "id": "d75f4872",
   "metadata": {},
   "outputs": [],
   "source": [
    "list = [3,9,8,34,44,87,67]\n",
    "max_list = list[0]\n",
    "for i in range(1,len(list)):\n",
    "    if list[i] < max_list:\n",
    "        max_list > \n"
   ]
  },
  {
   "cell_type": "code",
   "execution_count": 16,
   "id": "c94047a3",
   "metadata": {},
   "outputs": [
    {
     "name": "stdout",
     "output_type": "stream",
     "text": [
      "[1, 2, 3, 4, 5]\n"
     ]
    }
   ],
   "source": [
    "list = [1,2,3,4,5]\n",
    "lst.reverse()\n",
    "print(list)\n"
   ]
  },
  {
   "cell_type": "code",
   "execution_count": 20,
   "id": "25b46c6f",
   "metadata": {},
   "outputs": [
    {
     "name": "stdout",
     "output_type": "stream",
     "text": [
      "2.5\n",
      "2\n",
      "3\n",
      "5\n",
      "6\n"
     ]
    }
   ],
   "source": [
    "#append()\n",
    "list = [2.5,2,3,5]\n",
    "for i in list:\n",
    "    print(i)\n",
    "    if i == 2:\n",
    "        list.append(6)"
   ]
  },
  {
   "cell_type": "code",
   "execution_count": 18,
   "id": "bb0b9f02",
   "metadata": {},
   "outputs": [
    {
     "name": "stdout",
     "output_type": "stream",
     "text": [
      "[2.5, 2, 3, 5, 6]\n"
     ]
    }
   ],
   "source": [
    "x = [2.5,2,3,5]\n",
    "for i in range(5-len(x)):\n",
    "    x.append(6)\n",
    "    print(x)"
   ]
  },
  {
   "cell_type": "code",
   "execution_count": 22,
   "id": "0024e735",
   "metadata": {},
   "outputs": [
    {
     "name": "stdout",
     "output_type": "stream",
     "text": [
      "[1, 2, 3, 'Hello']\n",
      "[1, 2, 3, 'H', 'e', 'l', 'l', 'o']\n"
     ]
    }
   ],
   "source": [
    "#Difference between append and extend\n",
    "#append\n",
    "lst = [1,2,3]\n",
    "lst.append(\"Hello\")\n",
    "print(lst)\n",
    "\n",
    "#extend\n",
    "lst1 = [1,2,3]\n",
    "lst1.extend(\"Hello\")\n",
    "print(lst1)"
   ]
  },
  {
   "cell_type": "code",
   "execution_count": 23,
   "id": "e102f724",
   "metadata": {},
   "outputs": [
    {
     "name": "stdout",
     "output_type": "stream",
     "text": [
      "[1, 2, 'Hi', 4, 5, 6]\n"
     ]
    }
   ],
   "source": [
    "# + Operator\n",
    "list1 = [1,2,\"Hi\"]\n",
    "list2 = [4,5,6]\n",
    "\n",
    "new_list = list1 + list2\n",
    "print(new_list)"
   ]
  },
  {
   "cell_type": "code",
   "execution_count": 24,
   "id": "b9752511",
   "metadata": {},
   "outputs": [
    {
     "name": "stdout",
     "output_type": "stream",
     "text": [
      "[0]\n",
      "[0, 1]\n",
      "[0, 1, 2]\n",
      "[0, 1, 2, 3]\n",
      "[0, 1, 2, 3, 4]\n"
     ]
    }
   ],
   "source": [
    "#Adding Element dynamically with for loop\n",
    "\n",
    "my_list = []\n",
    "for j in range(5):\n",
    "    my_list.append(j)\n",
    "    print(my_list)"
   ]
  },
  {
   "cell_type": "code",
   "execution_count": 25,
   "id": "4da387e9",
   "metadata": {},
   "outputs": [
    {
     "name": "stdout",
     "output_type": "stream",
     "text": [
      "[0, 1, 2, 3, 4]\n"
     ]
    }
   ],
   "source": [
    "my_list = []\n",
    "for j in range(5):\n",
    "    my_list.append(j)\n",
    "print(my_list)"
   ]
  },
  {
   "cell_type": "code",
   "execution_count": 26,
   "id": "a38489e6",
   "metadata": {},
   "outputs": [
    {
     "name": "stdout",
     "output_type": "stream",
     "text": [
      "['*']\n",
      "['*', '*']\n",
      "['*', '*', '*']\n",
      "['*', '*', '*', '*']\n",
      "['*', '*', '*', '*', '*']\n"
     ]
    }
   ],
   "source": [
    "my_list = []\n",
    "for j in range(5):\n",
    "    my_list.append(\"*\")\n",
    "    print(my_list)"
   ]
  },
  {
   "cell_type": "code",
   "execution_count": 27,
   "id": "45939b93",
   "metadata": {},
   "outputs": [
    {
     "name": "stdout",
     "output_type": "stream",
     "text": [
      "[0]\n",
      "[0, 2]\n",
      "[0, 2, 4]\n",
      "[0, 2, 4, 6]\n",
      "[0, 2, 4, 6, 8]\n"
     ]
    }
   ],
   "source": [
    "my_list =[]\n",
    "for j in range(0,10,2):\n",
    "    my_list.append(j)\n",
    "    print(my_list)"
   ]
  },
  {
   "cell_type": "code",
   "execution_count": null,
   "id": "76bc972c",
   "metadata": {},
   "outputs": [],
   "source": [
    "tuple = (2,3,\"Hello\")\n",
    "list1 = list(tuple)\n",
    "list1[0]=4\n",
    "tuple = tuple()\n",
    "\n"
   ]
  },
  {
   "cell_type": "code",
   "execution_count": 8,
   "id": "cdd101a4",
   "metadata": {},
   "outputs": [
    {
     "name": "stdout",
     "output_type": "stream",
     "text": [
      "678.345\n"
     ]
    }
   ],
   "source": [
    "n = 345.678\n",
    "\n",
    "before, after = str(n).split(\".\")\n",
    "result = float(after + \".\"+before)\n",
    "print(result)"
   ]
  },
  {
   "cell_type": "code",
   "execution_count": null,
   "id": "09ed4852",
   "metadata": {},
   "outputs": [],
   "source": [
    "end=\" \" → adds a space after each print.\n",
    "\n",
    "end=\"\" → adds nothing (good for continuous printing without gaps).\n",
    "\n",
    "end=\"\\n\" → the default, adds a newline."
   ]
  },
  {
   "cell_type": "markdown",
   "id": "0a30abcd",
   "metadata": {},
   "source": [
    "23/09/2025"
   ]
  }
 ],
 "metadata": {
  "kernelspec": {
   "display_name": "Python (myenv)",
   "language": "python",
   "name": "myenv"
  },
  "language_info": {
   "codemirror_mode": {
    "name": "ipython",
    "version": 3
   },
   "file_extension": ".py",
   "mimetype": "text/x-python",
   "name": "python",
   "nbconvert_exporter": "python",
   "pygments_lexer": "ipython3",
   "version": "3.13.7"
  }
 },
 "nbformat": 4,
 "nbformat_minor": 5
}
